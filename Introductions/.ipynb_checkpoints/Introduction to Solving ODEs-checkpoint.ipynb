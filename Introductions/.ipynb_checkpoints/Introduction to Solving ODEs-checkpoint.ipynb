{
 "cells": [
  {
   "cell_type": "markdown",
   "metadata": {},
   "source": [
    "# Introduction to Solving ODEs\n",
    "\n",
    "In this example we're going to solve the linear ODE:\n",
    "\n",
    "$$ y' = \\alpha y $$\n",
    "\n",
    "First, we need to import the package DifferentialEquations.jl"
   ]
  },
  {
   "cell_type": "code",
   "execution_count": 1,
   "metadata": {
    "collapsed": false,
    "scrolled": false
   },
   "outputs": [],
   "source": [
    "using DifferentialEquations"
   ]
  },
  {
   "cell_type": "markdown",
   "metadata": {},
   "source": [
    "We write the ODE as\n",
    "\n",
    "$$ u' = f(t,u) $$\n",
    "\n",
    "Here, we will let $\\alpha = 0.5$. Let the initial condition be $u_0 = 1.5$ and the timespan be $[0,1]$. Thus we define the ODEProblem with the following code:"
   ]
  },
  {
   "cell_type": "code",
   "execution_count": 2,
   "metadata": {
    "collapsed": false
   },
   "outputs": [
    {
     "data": {
      "text/plain": [
       "AbstractODEProblem{Float64,Float64,false}\n"
      ]
     },
     "execution_count": 2,
     "metadata": {},
     "output_type": "execute_result"
    }
   ],
   "source": [
    "f(t,y) = 0.5*y\n",
    "u0 = 1.5\n",
    "tspan = (0.0,1.0)\n",
    "prob = ODEProblem(f,u0,tspan)"
   ]
  },
  {
   "cell_type": "markdown",
   "metadata": {},
   "source": [
    "`ODEProblem(f,u₀)` returns an `ODEProblem` type which contains all of the information necessary for solving the ODE. To solve the problem, we use the following command: "
   ]
  },
  {
   "cell_type": "code",
   "execution_count": 3,
   "metadata": {
    "collapsed": false
   },
   "outputs": [
    {
     "data": {
      "text/plain": [
       "DiffEqBase.ODESolution{Array{Float64,1},Array{Float64,1},Array{Array{Float64,1},1},DiffEqBase.ODEProblem{Float64,Float64,Val{false},#f},DiffEqBase.Tsit5}"
      ]
     },
     "execution_count": 3,
     "metadata": {},
     "output_type": "execute_result"
    }
   ],
   "source": [
    "sol = solve(prob)"
   ]
  },
  {
   "cell_type": "markdown",
   "metadata": {},
   "source": [
    "`sol` is an `ODESolution` type which contains all of the information about the numerical solution. There are some convience functions written for it to make things easier. For example, we can print the solution to understand more about it: "
   ]
  },
  {
   "cell_type": "code",
   "execution_count": 4,
   "metadata": {
    "collapsed": false
   },
   "outputs": [
    {
     "name": "stdout",
     "output_type": "stream",
     "text": [
      "DiffEqBase.ODESolution{Array{Float64,1},Array{Float64,1},Array{Array{Float64,1},1},DiffEqBase.ODEProblem{Float64,Float64,Val{false},#f},DiffEqBase.Tsit5}\n",
      "u: [1.5,1.58869,1.95655,2.47308]\n",
      "t: [0.0,0.114885,0.531436,1.0]\n"
     ]
    }
   ],
   "source": [
    "print(sol)"
   ]
  },
  {
   "cell_type": "markdown",
   "metadata": {},
   "source": [
    "Plot recipes are provided via Plots.jl. To plot the solution, we simply use the command `plot`."
   ]
  },
  {
   "cell_type": "code",
   "execution_count": 5,
   "metadata": {
    "collapsed": false
   },
   "outputs": [
    {
     "data": {
      "text/html": [
       "<?xml version=\"1.0\" encoding=\"utf-8\"?>\n",
       "<svg xmlns=\"http://www.w3.org/2000/svg\" xmlns:xlink=\"http://www.w3.org/1999/xlink\" width=\"600\" height=\"400\" viewBox=\"0 0 600 400\">\n",
       "<defs>\n",
       "  <clipPath id=\"clip00\">\n",
       "    <rect x=\"0\" y=\"0\" width=\"600\" height=\"400\"/>\n",
       "  </clipPath>\n",
       "</defs>\n",
       "<polygon clip-path=\"url(#clip00)\" points=\"\n",
       "0,400 600,400 600,0 0,0 \n",
       "  \" fill=\"#ffffff\" fill-opacity=\"1\"/>\n",
       "<defs>\n",
       "  <clipPath id=\"clip01\">\n",
       "    <rect x=\"120\" y=\"0\" width=\"421\" height=\"400\"/>\n",
       "  </clipPath>\n",
       "</defs>\n",
       "<polygon clip-path=\"url(#clip00)\" points=\"\n",
       "39.4926,384.952 596.063,384.952 596.063,3.93701 39.4926,3.93701 \n",
       "  \" fill=\"#ffffff\" fill-opacity=\"1\"/>\n",
       "<defs>\n",
       "  <clipPath id=\"clip02\">\n",
       "    <rect x=\"39\" y=\"3\" width=\"557\" height=\"382\"/>\n",
       "  </clipPath>\n",
       "</defs>\n",
       "<polyline clip-path=\"url(#clip02)\" style=\"stroke:#00002d; stroke-width:0.8; stroke-opacity:0.5; fill:none\" stroke-dasharray=\"1, 2\" points=\"\n",
       "  39.4926,379.237 39.4926,9.65223 \n",
       "  \"/>\n",
       "<polyline clip-path=\"url(#clip02)\" style=\"stroke:#00002d; stroke-width:0.8; stroke-opacity:0.5; fill:none\" stroke-dasharray=\"1, 2\" points=\"\n",
       "  150.807,379.237 150.807,9.65223 \n",
       "  \"/>\n",
       "<polyline clip-path=\"url(#clip02)\" style=\"stroke:#00002d; stroke-width:0.8; stroke-opacity:0.5; fill:none\" stroke-dasharray=\"1, 2\" points=\"\n",
       "  262.121,379.237 262.121,9.65223 \n",
       "  \"/>\n",
       "<polyline clip-path=\"url(#clip02)\" style=\"stroke:#00002d; stroke-width:0.8; stroke-opacity:0.5; fill:none\" stroke-dasharray=\"1, 2\" points=\"\n",
       "  373.435,379.237 373.435,9.65223 \n",
       "  \"/>\n",
       "<polyline clip-path=\"url(#clip02)\" style=\"stroke:#00002d; stroke-width:0.8; stroke-opacity:0.5; fill:none\" stroke-dasharray=\"1, 2\" points=\"\n",
       "  484.749,379.237 484.749,9.65223 \n",
       "  \"/>\n",
       "<polyline clip-path=\"url(#clip02)\" style=\"stroke:#00002d; stroke-width:0.8; stroke-opacity:0.5; fill:none\" stroke-dasharray=\"1, 2\" points=\"\n",
       "  596.063,379.237 596.063,9.65223 \n",
       "  \"/>\n",
       "<polyline clip-path=\"url(#clip02)\" style=\"stroke:#00002d; stroke-width:0.8; stroke-opacity:0.5; fill:none\" stroke-dasharray=\"1, 2\" points=\"\n",
       "  47.8411,384.952 587.714,384.952 \n",
       "  \"/>\n",
       "<polyline clip-path=\"url(#clip02)\" style=\"stroke:#00002d; stroke-width:0.8; stroke-opacity:0.5; fill:none\" stroke-dasharray=\"1, 2\" points=\"\n",
       "  47.8411,287.063 587.714,287.063 \n",
       "  \"/>\n",
       "<polyline clip-path=\"url(#clip02)\" style=\"stroke:#00002d; stroke-width:0.8; stroke-opacity:0.5; fill:none\" stroke-dasharray=\"1, 2\" points=\"\n",
       "  47.8411,189.174 587.714,189.174 \n",
       "  \"/>\n",
       "<polyline clip-path=\"url(#clip02)\" style=\"stroke:#00002d; stroke-width:0.8; stroke-opacity:0.5; fill:none\" stroke-dasharray=\"1, 2\" points=\"\n",
       "  47.8411,91.2858 587.714,91.2858 \n",
       "  \"/>\n",
       "<polyline clip-path=\"url(#clip02)\" style=\"stroke:#00002d; stroke-width:0.8; stroke-opacity:1; fill:none\" points=\"\n",
       "  39.4926,384.952 596.063,384.952 \n",
       "  \"/>\n",
       "<polyline clip-path=\"url(#clip02)\" style=\"stroke:#00002d; stroke-width:0.8; stroke-opacity:1; fill:none\" points=\"\n",
       "  39.4926,384.952 39.4926,379.237 \n",
       "  \"/>\n",
       "<polyline clip-path=\"url(#clip02)\" style=\"stroke:#00002d; stroke-width:0.8; stroke-opacity:1; fill:none\" points=\"\n",
       "  150.807,384.952 150.807,379.237 \n",
       "  \"/>\n",
       "<polyline clip-path=\"url(#clip02)\" style=\"stroke:#00002d; stroke-width:0.8; stroke-opacity:1; fill:none\" points=\"\n",
       "  262.121,384.952 262.121,379.237 \n",
       "  \"/>\n",
       "<polyline clip-path=\"url(#clip02)\" style=\"stroke:#00002d; stroke-width:0.8; stroke-opacity:1; fill:none\" points=\"\n",
       "  373.435,384.952 373.435,379.237 \n",
       "  \"/>\n",
       "<polyline clip-path=\"url(#clip02)\" style=\"stroke:#00002d; stroke-width:0.8; stroke-opacity:1; fill:none\" points=\"\n",
       "  484.749,384.952 484.749,379.237 \n",
       "  \"/>\n",
       "<polyline clip-path=\"url(#clip02)\" style=\"stroke:#00002d; stroke-width:0.8; stroke-opacity:1; fill:none\" points=\"\n",
       "  596.063,384.952 596.063,379.237 \n",
       "  \"/>\n",
       "<polyline clip-path=\"url(#clip02)\" style=\"stroke:#00002d; stroke-width:0.8; stroke-opacity:1; fill:none\" points=\"\n",
       "  39.4926,384.952 39.4926,3.93701 \n",
       "  \"/>\n",
       "<polyline clip-path=\"url(#clip02)\" style=\"stroke:#00002d; stroke-width:0.8; stroke-opacity:1; fill:none\" points=\"\n",
       "  39.4926,384.952 47.8411,384.952 \n",
       "  \"/>\n",
       "<polyline clip-path=\"url(#clip02)\" style=\"stroke:#00002d; stroke-width:0.8; stroke-opacity:1; fill:none\" points=\"\n",
       "  39.4926,287.063 47.8411,287.063 \n",
       "  \"/>\n",
       "<polyline clip-path=\"url(#clip02)\" style=\"stroke:#00002d; stroke-width:0.8; stroke-opacity:1; fill:none\" points=\"\n",
       "  39.4926,189.174 47.8411,189.174 \n",
       "  \"/>\n",
       "<polyline clip-path=\"url(#clip02)\" style=\"stroke:#00002d; stroke-width:0.8; stroke-opacity:1; fill:none\" points=\"\n",
       "  39.4926,91.2858 47.8411,91.2858 \n",
       "  \"/>\n",
       "<g clip-path=\"url(#clip00)\">\n",
       "<text style=\"fill:#00002d; fill-opacity:1; font-family:Arial,Helvetica Neue,Helvetica,sans-serif; font-size:12; text-anchor:middle;\" transform=\"rotate(0, 39.4926, 396.952)\" x=\"39.4926\" y=\"396.952\">0.0</text>\n",
       "</g>\n",
       "<g clip-path=\"url(#clip00)\">\n",
       "<text style=\"fill:#00002d; fill-opacity:1; font-family:Arial,Helvetica Neue,Helvetica,sans-serif; font-size:12; text-anchor:middle;\" transform=\"rotate(0, 150.807, 396.952)\" x=\"150.807\" y=\"396.952\">0.2</text>\n",
       "</g>\n",
       "<g clip-path=\"url(#clip00)\">\n",
       "<text style=\"fill:#00002d; fill-opacity:1; font-family:Arial,Helvetica Neue,Helvetica,sans-serif; font-size:12; text-anchor:middle;\" transform=\"rotate(0, 262.121, 396.952)\" x=\"262.121\" y=\"396.952\">0.4</text>\n",
       "</g>\n",
       "<g clip-path=\"url(#clip00)\">\n",
       "<text style=\"fill:#00002d; fill-opacity:1; font-family:Arial,Helvetica Neue,Helvetica,sans-serif; font-size:12; text-anchor:middle;\" transform=\"rotate(0, 373.435, 396.952)\" x=\"373.435\" y=\"396.952\">0.6</text>\n",
       "</g>\n",
       "<g clip-path=\"url(#clip00)\">\n",
       "<text style=\"fill:#00002d; fill-opacity:1; font-family:Arial,Helvetica Neue,Helvetica,sans-serif; font-size:12; text-anchor:middle;\" transform=\"rotate(0, 484.749, 396.952)\" x=\"484.749\" y=\"396.952\">0.8</text>\n",
       "</g>\n",
       "<g clip-path=\"url(#clip00)\">\n",
       "<text style=\"fill:#00002d; fill-opacity:1; font-family:Arial,Helvetica Neue,Helvetica,sans-serif; font-size:12; text-anchor:middle;\" transform=\"rotate(0, 596.063, 396.952)\" x=\"596.063\" y=\"396.952\">1.0</text>\n",
       "</g>\n",
       "<g clip-path=\"url(#clip00)\">\n",
       "<text style=\"fill:#00002d; fill-opacity:1; font-family:Arial,Helvetica Neue,Helvetica,sans-serif; font-size:12; text-anchor:end;\" transform=\"rotate(0, 38.2926, 389.452)\" x=\"38.2926\" y=\"389.452\">1.50</text>\n",
       "</g>\n",
       "<g clip-path=\"url(#clip00)\">\n",
       "<text style=\"fill:#00002d; fill-opacity:1; font-family:Arial,Helvetica Neue,Helvetica,sans-serif; font-size:12; text-anchor:end;\" transform=\"rotate(0, 38.2926, 291.563)\" x=\"38.2926\" y=\"291.563\">1.75</text>\n",
       "</g>\n",
       "<g clip-path=\"url(#clip00)\">\n",
       "<text style=\"fill:#00002d; fill-opacity:1; font-family:Arial,Helvetica Neue,Helvetica,sans-serif; font-size:12; text-anchor:end;\" transform=\"rotate(0, 38.2926, 193.674)\" x=\"38.2926\" y=\"193.674\">2.00</text>\n",
       "</g>\n",
       "<g clip-path=\"url(#clip00)\">\n",
       "<text style=\"fill:#00002d; fill-opacity:1; font-family:Arial,Helvetica Neue,Helvetica,sans-serif; font-size:12; text-anchor:end;\" transform=\"rotate(0, 38.2926, 95.7858)\" x=\"38.2926\" y=\"95.7858\">2.25</text>\n",
       "</g>\n",
       "<polyline clip-path=\"url(#clip02)\" style=\"stroke:#0099ff; stroke-width:2.4; stroke-opacity:1; fill:none\" points=\"\n",
       "  39.4926,384.952 45.1145,381.978 50.7364,378.989 56.3583,375.985 61.9803,372.966 67.6022,369.931 73.2241,366.882 78.846,363.816 84.468,360.735 90.0899,357.639 \n",
       "  95.7118,354.527 101.334,351.399 106.956,348.255 112.578,345.096 118.199,341.92 123.821,338.728 129.443,335.52 135.065,332.296 140.687,329.056 146.309,325.799 \n",
       "  151.931,322.526 157.553,319.236 163.175,315.929 168.797,312.606 174.419,309.266 180.041,305.909 185.663,302.535 191.284,299.143 196.906,295.735 202.528,292.31 \n",
       "  208.15,288.867 213.772,285.406 219.394,281.929 225.016,278.433 230.638,274.92 236.26,271.389 241.882,267.84 247.504,264.273 253.126,260.688 258.748,257.085 \n",
       "  264.37,253.464 269.991,249.825 275.613,246.167 281.235,242.49 286.857,238.795 292.479,235.081 298.101,231.348 303.723,227.597 309.345,223.826 314.967,220.037 \n",
       "  320.589,216.228 326.211,212.4 331.833,208.552 337.455,204.685 343.076,200.799 348.698,196.892 354.32,192.966 359.942,189.02 365.564,185.055 371.186,181.069 \n",
       "  376.808,177.062 382.43,173.036 388.052,168.989 393.674,164.922 399.296,160.834 404.918,156.725 410.54,152.596 416.161,148.446 421.783,144.274 427.405,140.082 \n",
       "  433.027,135.868 438.649,131.633 444.271,127.377 449.893,123.099 455.515,118.799 461.137,114.478 466.759,110.134 472.381,105.769 478.003,101.382 483.625,96.972 \n",
       "  489.246,92.5401 494.868,88.0857 500.49,83.6088 506.112,79.1092 511.734,74.5868 517.356,70.0415 522.978,65.4732 528.6,60.8817 534.222,56.267 539.844,51.629 \n",
       "  545.466,46.9675 551.088,42.2823 556.71,37.5734 562.331,32.8407 567.953,28.0841 573.575,23.3033 579.197,18.4983 584.819,13.6691 590.441,8.81532 596.063,3.93701 \n",
       "  \n",
       "  \"/>\n",
       "<polygon clip-path=\"url(#clip00)\" points=\"\n",
       "505.547,55.057 578.063,55.057 578.063,24.817 505.547,24.817 \n",
       "  \" fill=\"#ffffff\" fill-opacity=\"1\"/>\n",
       "<polyline clip-path=\"url(#clip00)\" style=\"stroke:#00002d; stroke-width:0.8; stroke-opacity:1; fill:none\" points=\"\n",
       "  505.547,55.057 578.063,55.057 578.063,24.817 505.547,24.817 505.547,55.057 \n",
       "  \"/>\n",
       "<polyline clip-path=\"url(#clip00)\" style=\"stroke:#0099ff; stroke-width:2.4; stroke-opacity:1; fill:none\" points=\"\n",
       "  511.547,39.937 547.547,39.937 \n",
       "  \"/>\n",
       "<g clip-path=\"url(#clip00)\">\n",
       "<text style=\"fill:#00002d; fill-opacity:1; font-family:Arial,Helvetica Neue,Helvetica,sans-serif; font-size:12; text-anchor:start;\" transform=\"rotate(0, 553.547, 44.437)\" x=\"553.547\" y=\"44.437\">y1</text>\n",
       "</g>\n",
       "</svg>\n"
      ]
     },
     "execution_count": 5,
     "metadata": {},
     "output_type": "execute_result"
    }
   ],
   "source": [
    "using Plots\n",
    "gr() # Change to the GR backend\n",
    "plot(sol)"
   ]
  },
  {
   "cell_type": "markdown",
   "metadata": {},
   "source": [
    "Note: all of the options available in Plots.jl can be used to modify the plot. For more information, see [the Plots.jl documentation](https://juliaplots.github.io/) or take a look at the Formatting the Plots notebook]."
   ]
  },
  {
   "cell_type": "code",
   "execution_count": 6,
   "metadata": {
    "collapsed": false
   },
   "outputs": [
    {
     "data": {
      "text/html": [
       "<?xml version=\"1.0\" encoding=\"utf-8\"?>\n",
       "<svg xmlns=\"http://www.w3.org/2000/svg\" xmlns:xlink=\"http://www.w3.org/1999/xlink\" width=\"600\" height=\"400\" viewBox=\"0 0 600 400\">\n",
       "<defs>\n",
       "  <clipPath id=\"clip00\">\n",
       "    <rect x=\"0\" y=\"0\" width=\"600\" height=\"400\"/>\n",
       "  </clipPath>\n",
       "</defs>\n",
       "<polygon clip-path=\"url(#clip00)\" points=\"\n",
       "0,400 600,400 600,0 0,0 \n",
       "  \" fill=\"#ffffff\" fill-opacity=\"1\"/>\n",
       "<defs>\n",
       "  <clipPath id=\"clip01\">\n",
       "    <rect x=\"120\" y=\"0\" width=\"421\" height=\"400\"/>\n",
       "  </clipPath>\n",
       "</defs>\n",
       "<polygon clip-path=\"url(#clip00)\" points=\"\n",
       "54.7703,369.674 596.063,369.674 596.063,3.93701 54.7703,3.93701 \n",
       "  \" fill=\"#ffffff\" fill-opacity=\"1\"/>\n",
       "<defs>\n",
       "  <clipPath id=\"clip02\">\n",
       "    <rect x=\"54\" y=\"3\" width=\"542\" height=\"366\"/>\n",
       "  </clipPath>\n",
       "</defs>\n",
       "<polyline clip-path=\"url(#clip02)\" style=\"stroke:#00002d; stroke-width:0.8; stroke-opacity:0.5; fill:none\" stroke-dasharray=\"1, 2\" points=\"\n",
       "  54.7703,364.188 54.7703,9.42306 \n",
       "  \"/>\n",
       "<polyline clip-path=\"url(#clip02)\" style=\"stroke:#00002d; stroke-width:0.8; stroke-opacity:0.5; fill:none\" stroke-dasharray=\"1, 2\" points=\"\n",
       "  163.029,364.188 163.029,9.42306 \n",
       "  \"/>\n",
       "<polyline clip-path=\"url(#clip02)\" style=\"stroke:#00002d; stroke-width:0.8; stroke-opacity:0.5; fill:none\" stroke-dasharray=\"1, 2\" points=\"\n",
       "  271.287,364.188 271.287,9.42306 \n",
       "  \"/>\n",
       "<polyline clip-path=\"url(#clip02)\" style=\"stroke:#00002d; stroke-width:0.8; stroke-opacity:0.5; fill:none\" stroke-dasharray=\"1, 2\" points=\"\n",
       "  379.546,364.188 379.546,9.42306 \n",
       "  \"/>\n",
       "<polyline clip-path=\"url(#clip02)\" style=\"stroke:#00002d; stroke-width:0.8; stroke-opacity:0.5; fill:none\" stroke-dasharray=\"1, 2\" points=\"\n",
       "  487.804,364.188 487.804,9.42306 \n",
       "  \"/>\n",
       "<polyline clip-path=\"url(#clip02)\" style=\"stroke:#00002d; stroke-width:0.8; stroke-opacity:0.5; fill:none\" stroke-dasharray=\"1, 2\" points=\"\n",
       "  596.063,364.188 596.063,9.42306 \n",
       "  \"/>\n",
       "<polyline clip-path=\"url(#clip02)\" style=\"stroke:#00002d; stroke-width:0.8; stroke-opacity:0.5; fill:none\" stroke-dasharray=\"1, 2\" points=\"\n",
       "  62.8897,369.674 587.944,369.674 \n",
       "  \"/>\n",
       "<polyline clip-path=\"url(#clip02)\" style=\"stroke:#00002d; stroke-width:0.8; stroke-opacity:0.5; fill:none\" stroke-dasharray=\"1, 2\" points=\"\n",
       "  62.8897,275.711 587.944,275.711 \n",
       "  \"/>\n",
       "<polyline clip-path=\"url(#clip02)\" style=\"stroke:#00002d; stroke-width:0.8; stroke-opacity:0.5; fill:none\" stroke-dasharray=\"1, 2\" points=\"\n",
       "  62.8897,181.747 587.944,181.747 \n",
       "  \"/>\n",
       "<polyline clip-path=\"url(#clip02)\" style=\"stroke:#00002d; stroke-width:0.8; stroke-opacity:0.5; fill:none\" stroke-dasharray=\"1, 2\" points=\"\n",
       "  62.8897,87.7833 587.944,87.7833 \n",
       "  \"/>\n",
       "<polyline clip-path=\"url(#clip02)\" style=\"stroke:#00002d; stroke-width:0.8; stroke-opacity:1; fill:none\" points=\"\n",
       "  54.7703,369.674 596.063,369.674 \n",
       "  \"/>\n",
       "<polyline clip-path=\"url(#clip02)\" style=\"stroke:#00002d; stroke-width:0.8; stroke-opacity:1; fill:none\" points=\"\n",
       "  54.7703,369.674 54.7703,364.188 \n",
       "  \"/>\n",
       "<polyline clip-path=\"url(#clip02)\" style=\"stroke:#00002d; stroke-width:0.8; stroke-opacity:1; fill:none\" points=\"\n",
       "  163.029,369.674 163.029,364.188 \n",
       "  \"/>\n",
       "<polyline clip-path=\"url(#clip02)\" style=\"stroke:#00002d; stroke-width:0.8; stroke-opacity:1; fill:none\" points=\"\n",
       "  271.287,369.674 271.287,364.188 \n",
       "  \"/>\n",
       "<polyline clip-path=\"url(#clip02)\" style=\"stroke:#00002d; stroke-width:0.8; stroke-opacity:1; fill:none\" points=\"\n",
       "  379.546,369.674 379.546,364.188 \n",
       "  \"/>\n",
       "<polyline clip-path=\"url(#clip02)\" style=\"stroke:#00002d; stroke-width:0.8; stroke-opacity:1; fill:none\" points=\"\n",
       "  487.804,369.674 487.804,364.188 \n",
       "  \"/>\n",
       "<polyline clip-path=\"url(#clip02)\" style=\"stroke:#00002d; stroke-width:0.8; stroke-opacity:1; fill:none\" points=\"\n",
       "  596.063,369.674 596.063,364.188 \n",
       "  \"/>\n",
       "<polyline clip-path=\"url(#clip02)\" style=\"stroke:#00002d; stroke-width:0.8; stroke-opacity:1; fill:none\" points=\"\n",
       "  54.7703,369.674 54.7703,3.93701 \n",
       "  \"/>\n",
       "<polyline clip-path=\"url(#clip02)\" style=\"stroke:#00002d; stroke-width:0.8; stroke-opacity:1; fill:none\" points=\"\n",
       "  54.7703,369.674 62.8897,369.674 \n",
       "  \"/>\n",
       "<polyline clip-path=\"url(#clip02)\" style=\"stroke:#00002d; stroke-width:0.8; stroke-opacity:1; fill:none\" points=\"\n",
       "  54.7703,275.711 62.8897,275.711 \n",
       "  \"/>\n",
       "<polyline clip-path=\"url(#clip02)\" style=\"stroke:#00002d; stroke-width:0.8; stroke-opacity:1; fill:none\" points=\"\n",
       "  54.7703,181.747 62.8897,181.747 \n",
       "  \"/>\n",
       "<polyline clip-path=\"url(#clip02)\" style=\"stroke:#00002d; stroke-width:0.8; stroke-opacity:1; fill:none\" points=\"\n",
       "  54.7703,87.7833 62.8897,87.7833 \n",
       "  \"/>\n",
       "<g clip-path=\"url(#clip00)\">\n",
       "<text style=\"fill:#00002d; fill-opacity:1; font-family:Arial,Helvetica Neue,Helvetica,sans-serif; font-size:12; text-anchor:middle;\" transform=\"rotate(0, 54.7703, 381.674)\" x=\"54.7703\" y=\"381.674\">0.0</text>\n",
       "</g>\n",
       "<g clip-path=\"url(#clip00)\">\n",
       "<text style=\"fill:#00002d; fill-opacity:1; font-family:Arial,Helvetica Neue,Helvetica,sans-serif; font-size:12; text-anchor:middle;\" transform=\"rotate(0, 163.029, 381.674)\" x=\"163.029\" y=\"381.674\">0.2</text>\n",
       "</g>\n",
       "<g clip-path=\"url(#clip00)\">\n",
       "<text style=\"fill:#00002d; fill-opacity:1; font-family:Arial,Helvetica Neue,Helvetica,sans-serif; font-size:12; text-anchor:middle;\" transform=\"rotate(0, 271.287, 381.674)\" x=\"271.287\" y=\"381.674\">0.4</text>\n",
       "</g>\n",
       "<g clip-path=\"url(#clip00)\">\n",
       "<text style=\"fill:#00002d; fill-opacity:1; font-family:Arial,Helvetica Neue,Helvetica,sans-serif; font-size:12; text-anchor:middle;\" transform=\"rotate(0, 379.546, 381.674)\" x=\"379.546\" y=\"381.674\">0.6</text>\n",
       "</g>\n",
       "<g clip-path=\"url(#clip00)\">\n",
       "<text style=\"fill:#00002d; fill-opacity:1; font-family:Arial,Helvetica Neue,Helvetica,sans-serif; font-size:12; text-anchor:middle;\" transform=\"rotate(0, 487.804, 381.674)\" x=\"487.804\" y=\"381.674\">0.8</text>\n",
       "</g>\n",
       "<g clip-path=\"url(#clip00)\">\n",
       "<text style=\"fill:#00002d; fill-opacity:1; font-family:Arial,Helvetica Neue,Helvetica,sans-serif; font-size:12; text-anchor:middle;\" transform=\"rotate(0, 596.063, 381.674)\" x=\"596.063\" y=\"381.674\">1.0</text>\n",
       "</g>\n",
       "<g clip-path=\"url(#clip00)\">\n",
       "<text style=\"fill:#00002d; fill-opacity:1; font-family:Arial,Helvetica Neue,Helvetica,sans-serif; font-size:12; text-anchor:end;\" transform=\"rotate(0, 53.5703, 374.174)\" x=\"53.5703\" y=\"374.174\">1.50</text>\n",
       "</g>\n",
       "<g clip-path=\"url(#clip00)\">\n",
       "<text style=\"fill:#00002d; fill-opacity:1; font-family:Arial,Helvetica Neue,Helvetica,sans-serif; font-size:12; text-anchor:end;\" transform=\"rotate(0, 53.5703, 280.211)\" x=\"53.5703\" y=\"280.211\">1.75</text>\n",
       "</g>\n",
       "<g clip-path=\"url(#clip00)\">\n",
       "<text style=\"fill:#00002d; fill-opacity:1; font-family:Arial,Helvetica Neue,Helvetica,sans-serif; font-size:12; text-anchor:end;\" transform=\"rotate(0, 53.5703, 186.247)\" x=\"53.5703\" y=\"186.247\">2.00</text>\n",
       "</g>\n",
       "<g clip-path=\"url(#clip00)\">\n",
       "<text style=\"fill:#00002d; fill-opacity:1; font-family:Arial,Helvetica Neue,Helvetica,sans-serif; font-size:12; text-anchor:end;\" transform=\"rotate(0, 53.5703, 92.2833)\" x=\"53.5703\" y=\"92.2833\">2.25</text>\n",
       "</g>\n",
       "<g clip-path=\"url(#clip00)\">\n",
       "<text style=\"fill:#00002d; fill-opacity:1; font-family:Arial,Helvetica Neue,Helvetica,sans-serif; font-size:16; text-anchor:middle;\" transform=\"rotate(0, 325.417, 397.6)\" x=\"325.417\" y=\"397.6\">Time (seconds)</text>\n",
       "</g>\n",
       "<g clip-path=\"url(#clip00)\">\n",
       "<text style=\"fill:#00002d; fill-opacity:1; font-family:Arial,Helvetica Neue,Helvetica,sans-serif; font-size:16; text-anchor:middle;\" transform=\"rotate(-90, 14.4, 186.806)\" x=\"14.4\" y=\"186.806\">Bunnies (/inch)</text>\n",
       "</g>\n",
       "<polyline clip-path=\"url(#clip02)\" style=\"stroke:#0099ff; stroke-width:2.4; stroke-opacity:1; fill:none\" points=\"\n",
       "  54.7703,369.674 60.2379,366.82 65.7055,363.95 71.1731,361.067 76.6408,358.169 82.1084,355.256 87.576,352.328 93.0436,349.386 98.5112,346.429 103.979,343.456 \n",
       "  109.446,340.469 114.914,337.467 120.382,334.449 125.849,331.416 131.317,328.368 136.784,325.304 142.252,322.225 147.72,319.13 153.187,316.019 158.655,312.893 \n",
       "  164.122,309.751 169.59,306.593 175.058,303.419 180.525,300.229 185.993,297.023 191.46,293.8 196.928,290.562 202.396,287.306 207.863,284.035 213.331,280.747 \n",
       "  218.798,277.442 224.266,274.12 229.734,270.782 235.201,267.426 240.669,264.054 246.136,260.665 251.604,257.258 257.072,253.834 262.539,250.393 268.007,246.935 \n",
       "  273.474,243.459 278.942,239.965 284.41,236.454 289.877,232.925 295.345,229.378 300.812,225.813 306.28,222.23 311.748,218.629 317.215,215.009 322.683,211.372 \n",
       "  328.15,207.715 333.618,204.041 339.086,200.348 344.553,196.636 350.021,192.905 355.488,189.155 360.956,185.387 366.424,181.599 371.891,177.792 377.359,173.966 \n",
       "  382.826,170.12 388.294,166.256 393.762,162.371 399.229,158.467 404.697,154.543 410.165,150.599 415.632,146.635 421.1,142.651 426.567,138.647 432.035,134.623 \n",
       "  437.503,130.578 442.97,126.513 448.438,122.427 453.905,118.321 459.373,114.193 464.841,110.045 470.308,105.876 475.776,101.686 481.243,97.4744 486.711,93.2416 \n",
       "  492.179,88.9873 497.646,84.7115 503.114,80.4141 508.581,76.0949 514.049,71.7539 519.517,67.3908 524.984,63.0057 530.452,58.5984 535.919,54.1687 541.387,49.7167 \n",
       "  546.855,45.242 552.322,40.7448 557.79,36.2247 563.257,31.6818 568.725,27.1158 574.193,22.5268 579.66,17.9145 585.128,13.2788 590.595,8.61971 596.063,3.93701 \n",
       "  \n",
       "  \"/>\n",
       "<polygon clip-path=\"url(#clip00)\" points=\"\n",
       "505.547,55.057 578.063,55.057 578.063,24.817 505.547,24.817 \n",
       "  \" fill=\"#ffffff\" fill-opacity=\"1\"/>\n",
       "<polyline clip-path=\"url(#clip00)\" style=\"stroke:#00002d; stroke-width:0.8; stroke-opacity:1; fill:none\" points=\"\n",
       "  505.547,55.057 578.063,55.057 578.063,24.817 505.547,24.817 505.547,55.057 \n",
       "  \"/>\n",
       "<polyline clip-path=\"url(#clip00)\" style=\"stroke:#0099ff; stroke-width:2.4; stroke-opacity:1; fill:none\" points=\"\n",
       "  511.547,39.937 547.547,39.937 \n",
       "  \"/>\n",
       "<g clip-path=\"url(#clip00)\">\n",
       "<text style=\"fill:#00002d; fill-opacity:1; font-family:Arial,Helvetica Neue,Helvetica,sans-serif; font-size:12; text-anchor:start;\" transform=\"rotate(0, 553.547, 44.437)\" x=\"553.547\" y=\"44.437\">y1</text>\n",
       "</g>\n",
       "</svg>\n"
      ]
     },
     "execution_count": 6,
     "metadata": {},
     "output_type": "execute_result"
    }
   ],
   "source": [
    "plot(sol,lw=3,yguide=\"Bunnies (/inch)\",xguide=\"Time (seconds)\")"
   ]
  },
  {
   "cell_type": "markdown",
   "metadata": {},
   "source": [
    "That's all it takes to solve ODEs in DifferentialEquations.jl!"
   ]
  },
  {
   "cell_type": "markdown",
   "metadata": {},
   "source": [
    "## Solver Options\n",
    "\n",
    "The solver is controlled via keyword arguments. For example, we can set the initial timestep with the flag `Δt`, and we can set change the algorithm with the keyword `alg`. Let's change the algorithm to Euler's method with $\\Delta t = \\frac{1}{2^4}$. To do this, we use the command:"
   ]
  },
  {
   "cell_type": "code",
   "execution_count": 7,
   "metadata": {
    "collapsed": false
   },
   "outputs": [
    {
     "data": {
      "text/html": [
       "<?xml version=\"1.0\" encoding=\"utf-8\"?>\n",
       "<svg xmlns=\"http://www.w3.org/2000/svg\" xmlns:xlink=\"http://www.w3.org/1999/xlink\" width=\"600\" height=\"400\" viewBox=\"0 0 600 400\">\n",
       "<defs>\n",
       "  <clipPath id=\"clip00\">\n",
       "    <rect x=\"0\" y=\"0\" width=\"600\" height=\"400\"/>\n",
       "  </clipPath>\n",
       "</defs>\n",
       "<polygon clip-path=\"url(#clip00)\" points=\"\n",
       "0,400 600,400 600,0 0,0 \n",
       "  \" fill=\"#ffffff\" fill-opacity=\"1\"/>\n",
       "<defs>\n",
       "  <clipPath id=\"clip01\">\n",
       "    <rect x=\"120\" y=\"0\" width=\"421\" height=\"400\"/>\n",
       "  </clipPath>\n",
       "</defs>\n",
       "<polygon clip-path=\"url(#clip00)\" points=\"\n",
       "39.4926,384.952 596.063,384.952 596.063,3.93701 39.4926,3.93701 \n",
       "  \" fill=\"#ffffff\" fill-opacity=\"1\"/>\n",
       "<defs>\n",
       "  <clipPath id=\"clip02\">\n",
       "    <rect x=\"39\" y=\"3\" width=\"557\" height=\"382\"/>\n",
       "  </clipPath>\n",
       "</defs>\n",
       "<polyline clip-path=\"url(#clip02)\" style=\"stroke:#00002d; stroke-width:0.8; stroke-opacity:0.5; fill:none\" stroke-dasharray=\"1, 2\" points=\"\n",
       "  39.4926,379.237 39.4926,9.65223 \n",
       "  \"/>\n",
       "<polyline clip-path=\"url(#clip02)\" style=\"stroke:#00002d; stroke-width:0.8; stroke-opacity:0.5; fill:none\" stroke-dasharray=\"1, 2\" points=\"\n",
       "  150.807,379.237 150.807,9.65223 \n",
       "  \"/>\n",
       "<polyline clip-path=\"url(#clip02)\" style=\"stroke:#00002d; stroke-width:0.8; stroke-opacity:0.5; fill:none\" stroke-dasharray=\"1, 2\" points=\"\n",
       "  262.121,379.237 262.121,9.65223 \n",
       "  \"/>\n",
       "<polyline clip-path=\"url(#clip02)\" style=\"stroke:#00002d; stroke-width:0.8; stroke-opacity:0.5; fill:none\" stroke-dasharray=\"1, 2\" points=\"\n",
       "  373.435,379.237 373.435,9.65223 \n",
       "  \"/>\n",
       "<polyline clip-path=\"url(#clip02)\" style=\"stroke:#00002d; stroke-width:0.8; stroke-opacity:0.5; fill:none\" stroke-dasharray=\"1, 2\" points=\"\n",
       "  484.749,379.237 484.749,9.65223 \n",
       "  \"/>\n",
       "<polyline clip-path=\"url(#clip02)\" style=\"stroke:#00002d; stroke-width:0.8; stroke-opacity:0.5; fill:none\" stroke-dasharray=\"1, 2\" points=\"\n",
       "  596.063,379.237 596.063,9.65223 \n",
       "  \"/>\n",
       "<polyline clip-path=\"url(#clip02)\" style=\"stroke:#00002d; stroke-width:0.8; stroke-opacity:0.5; fill:none\" stroke-dasharray=\"1, 2\" points=\"\n",
       "  47.8411,384.952 587.714,384.952 \n",
       "  \"/>\n",
       "<polyline clip-path=\"url(#clip02)\" style=\"stroke:#00002d; stroke-width:0.8; stroke-opacity:0.5; fill:none\" stroke-dasharray=\"1, 2\" points=\"\n",
       "  47.8411,287.063 587.714,287.063 \n",
       "  \"/>\n",
       "<polyline clip-path=\"url(#clip02)\" style=\"stroke:#00002d; stroke-width:0.8; stroke-opacity:0.5; fill:none\" stroke-dasharray=\"1, 2\" points=\"\n",
       "  47.8411,189.173 587.714,189.173 \n",
       "  \"/>\n",
       "<polyline clip-path=\"url(#clip02)\" style=\"stroke:#00002d; stroke-width:0.8; stroke-opacity:0.5; fill:none\" stroke-dasharray=\"1, 2\" points=\"\n",
       "  47.8411,91.2839 587.714,91.2839 \n",
       "  \"/>\n",
       "<polyline clip-path=\"url(#clip02)\" style=\"stroke:#00002d; stroke-width:0.8; stroke-opacity:1; fill:none\" points=\"\n",
       "  39.4926,384.952 596.063,384.952 \n",
       "  \"/>\n",
       "<polyline clip-path=\"url(#clip02)\" style=\"stroke:#00002d; stroke-width:0.8; stroke-opacity:1; fill:none\" points=\"\n",
       "  39.4926,384.952 39.4926,379.237 \n",
       "  \"/>\n",
       "<polyline clip-path=\"url(#clip02)\" style=\"stroke:#00002d; stroke-width:0.8; stroke-opacity:1; fill:none\" points=\"\n",
       "  150.807,384.952 150.807,379.237 \n",
       "  \"/>\n",
       "<polyline clip-path=\"url(#clip02)\" style=\"stroke:#00002d; stroke-width:0.8; stroke-opacity:1; fill:none\" points=\"\n",
       "  262.121,384.952 262.121,379.237 \n",
       "  \"/>\n",
       "<polyline clip-path=\"url(#clip02)\" style=\"stroke:#00002d; stroke-width:0.8; stroke-opacity:1; fill:none\" points=\"\n",
       "  373.435,384.952 373.435,379.237 \n",
       "  \"/>\n",
       "<polyline clip-path=\"url(#clip02)\" style=\"stroke:#00002d; stroke-width:0.8; stroke-opacity:1; fill:none\" points=\"\n",
       "  484.749,384.952 484.749,379.237 \n",
       "  \"/>\n",
       "<polyline clip-path=\"url(#clip02)\" style=\"stroke:#00002d; stroke-width:0.8; stroke-opacity:1; fill:none\" points=\"\n",
       "  596.063,384.952 596.063,379.237 \n",
       "  \"/>\n",
       "<polyline clip-path=\"url(#clip02)\" style=\"stroke:#00002d; stroke-width:0.8; stroke-opacity:1; fill:none\" points=\"\n",
       "  39.4926,384.952 39.4926,3.93701 \n",
       "  \"/>\n",
       "<polyline clip-path=\"url(#clip02)\" style=\"stroke:#00002d; stroke-width:0.8; stroke-opacity:1; fill:none\" points=\"\n",
       "  39.4926,384.952 47.8411,384.952 \n",
       "  \"/>\n",
       "<polyline clip-path=\"url(#clip02)\" style=\"stroke:#00002d; stroke-width:0.8; stroke-opacity:1; fill:none\" points=\"\n",
       "  39.4926,287.063 47.8411,287.063 \n",
       "  \"/>\n",
       "<polyline clip-path=\"url(#clip02)\" style=\"stroke:#00002d; stroke-width:0.8; stroke-opacity:1; fill:none\" points=\"\n",
       "  39.4926,189.173 47.8411,189.173 \n",
       "  \"/>\n",
       "<polyline clip-path=\"url(#clip02)\" style=\"stroke:#00002d; stroke-width:0.8; stroke-opacity:1; fill:none\" points=\"\n",
       "  39.4926,91.2839 47.8411,91.2839 \n",
       "  \"/>\n",
       "<g clip-path=\"url(#clip00)\">\n",
       "<text style=\"fill:#00002d; fill-opacity:1; font-family:Arial,Helvetica Neue,Helvetica,sans-serif; font-size:12; text-anchor:middle;\" transform=\"rotate(0, 39.4926, 396.952)\" x=\"39.4926\" y=\"396.952\">0.0</text>\n",
       "</g>\n",
       "<g clip-path=\"url(#clip00)\">\n",
       "<text style=\"fill:#00002d; fill-opacity:1; font-family:Arial,Helvetica Neue,Helvetica,sans-serif; font-size:12; text-anchor:middle;\" transform=\"rotate(0, 150.807, 396.952)\" x=\"150.807\" y=\"396.952\">0.2</text>\n",
       "</g>\n",
       "<g clip-path=\"url(#clip00)\">\n",
       "<text style=\"fill:#00002d; fill-opacity:1; font-family:Arial,Helvetica Neue,Helvetica,sans-serif; font-size:12; text-anchor:middle;\" transform=\"rotate(0, 262.121, 396.952)\" x=\"262.121\" y=\"396.952\">0.4</text>\n",
       "</g>\n",
       "<g clip-path=\"url(#clip00)\">\n",
       "<text style=\"fill:#00002d; fill-opacity:1; font-family:Arial,Helvetica Neue,Helvetica,sans-serif; font-size:12; text-anchor:middle;\" transform=\"rotate(0, 373.435, 396.952)\" x=\"373.435\" y=\"396.952\">0.6</text>\n",
       "</g>\n",
       "<g clip-path=\"url(#clip00)\">\n",
       "<text style=\"fill:#00002d; fill-opacity:1; font-family:Arial,Helvetica Neue,Helvetica,sans-serif; font-size:12; text-anchor:middle;\" transform=\"rotate(0, 484.749, 396.952)\" x=\"484.749\" y=\"396.952\">0.8</text>\n",
       "</g>\n",
       "<g clip-path=\"url(#clip00)\">\n",
       "<text style=\"fill:#00002d; fill-opacity:1; font-family:Arial,Helvetica Neue,Helvetica,sans-serif; font-size:12; text-anchor:middle;\" transform=\"rotate(0, 596.063, 396.952)\" x=\"596.063\" y=\"396.952\">1.0</text>\n",
       "</g>\n",
       "<g clip-path=\"url(#clip00)\">\n",
       "<text style=\"fill:#00002d; fill-opacity:1; font-family:Arial,Helvetica Neue,Helvetica,sans-serif; font-size:12; text-anchor:end;\" transform=\"rotate(0, 38.2926, 389.452)\" x=\"38.2926\" y=\"389.452\">1.50</text>\n",
       "</g>\n",
       "<g clip-path=\"url(#clip00)\">\n",
       "<text style=\"fill:#00002d; fill-opacity:1; font-family:Arial,Helvetica Neue,Helvetica,sans-serif; font-size:12; text-anchor:end;\" transform=\"rotate(0, 38.2926, 291.563)\" x=\"38.2926\" y=\"291.563\">1.75</text>\n",
       "</g>\n",
       "<g clip-path=\"url(#clip00)\">\n",
       "<text style=\"fill:#00002d; fill-opacity:1; font-family:Arial,Helvetica Neue,Helvetica,sans-serif; font-size:12; text-anchor:end;\" transform=\"rotate(0, 38.2926, 193.673)\" x=\"38.2926\" y=\"193.673\">2.00</text>\n",
       "</g>\n",
       "<g clip-path=\"url(#clip00)\">\n",
       "<text style=\"fill:#00002d; fill-opacity:1; font-family:Arial,Helvetica Neue,Helvetica,sans-serif; font-size:12; text-anchor:end;\" transform=\"rotate(0, 38.2926, 95.7839)\" x=\"38.2926\" y=\"95.7839\">2.25</text>\n",
       "</g>\n",
       "<polyline clip-path=\"url(#clip02)\" style=\"stroke:#0099ff; stroke-width:2.4; stroke-opacity:1; fill:none\" points=\"\n",
       "  39.4926,384.952 45.1145,381.978 50.7364,378.989 56.3583,375.985 61.9803,372.966 67.6022,369.931 73.2241,366.882 78.846,363.816 84.468,360.735 90.0899,357.639 \n",
       "  95.7118,354.527 101.334,351.399 106.956,348.255 112.578,345.096 118.199,341.92 123.821,338.728 129.443,335.52 135.065,332.296 140.687,329.056 146.309,325.799 \n",
       "  151.931,322.526 157.553,319.236 163.175,315.929 168.797,312.606 174.419,309.266 180.041,305.909 185.663,302.535 191.284,299.143 196.906,295.735 202.528,292.31 \n",
       "  208.15,288.867 213.772,285.406 219.394,281.928 225.016,278.433 230.638,274.92 236.26,271.389 241.882,267.84 247.504,264.273 253.126,260.688 258.748,257.085 \n",
       "  264.37,253.464 269.991,249.825 275.613,246.167 281.235,242.49 286.857,238.795 292.479,235.081 298.101,231.348 303.723,227.597 309.345,223.826 314.967,220.037 \n",
       "  320.589,216.228 326.211,212.4 331.833,208.552 337.455,204.685 343.076,200.798 348.698,196.892 354.32,192.966 359.942,189.02 365.564,185.054 371.186,181.068 \n",
       "  376.808,177.062 382.43,173.036 388.052,168.989 393.674,164.922 399.296,160.834 404.918,156.725 410.54,152.596 416.161,148.446 421.783,144.274 427.405,140.082 \n",
       "  433.027,135.868 438.649,131.633 444.271,127.377 449.893,123.099 455.515,118.799 461.137,114.478 466.759,110.134 472.381,105.769 478.003,101.382 483.625,96.9719 \n",
       "  489.246,92.54 494.868,88.0856 500.49,83.6087 506.112,79.109 511.734,74.5867 517.356,70.0414 522.978,65.4731 528.6,60.8816 534.222,56.2669 539.844,51.6289 \n",
       "  545.466,46.9674 551.088,42.2822 556.71,37.5734 562.331,32.8407 567.953,28.084 573.575,23.3033 579.197,18.4983 584.819,13.669 590.441,8.81531 596.063,3.93701 \n",
       "  \n",
       "  \"/>\n",
       "<polygon clip-path=\"url(#clip00)\" points=\"\n",
       "505.547,55.057 578.063,55.057 578.063,24.817 505.547,24.817 \n",
       "  \" fill=\"#ffffff\" fill-opacity=\"1\"/>\n",
       "<polyline clip-path=\"url(#clip00)\" style=\"stroke:#00002d; stroke-width:0.8; stroke-opacity:1; fill:none\" points=\"\n",
       "  505.547,55.057 578.063,55.057 578.063,24.817 505.547,24.817 505.547,55.057 \n",
       "  \"/>\n",
       "<polyline clip-path=\"url(#clip00)\" style=\"stroke:#0099ff; stroke-width:2.4; stroke-opacity:1; fill:none\" points=\"\n",
       "  511.547,39.937 547.547,39.937 \n",
       "  \"/>\n",
       "<g clip-path=\"url(#clip00)\">\n",
       "<text style=\"fill:#00002d; fill-opacity:1; font-family:Arial,Helvetica Neue,Helvetica,sans-serif; font-size:12; text-anchor:start;\" transform=\"rotate(0, 553.547, 44.437)\" x=\"553.547\" y=\"44.437\">y1</text>\n",
       "</g>\n",
       "</svg>\n"
      ]
     },
     "execution_count": 7,
     "metadata": {},
     "output_type": "execute_result"
    }
   ],
   "source": [
    "sol = solve(prob,Euler,Δt=1/2^4)\n",
    "plot(sol)"
   ]
  },
  {
   "cell_type": "markdown",
   "metadata": {},
   "source": [
    "Notice that this time the solver took much smaller steps, making a smoother output in the graph. Other notebooks go into more detail on how to control the solver, and the options are all described in the documentation."
   ]
  },
  {
   "cell_type": "markdown",
   "metadata": {},
   "source": [
    "## The Solution Object\n",
    "\n",
    "Let's take a more detailed look at the solution object. "
   ]
  },
  {
   "cell_type": "markdown",
   "metadata": {},
   "source": [
    "This shows us all of the values that are contained in the solution object. For example, the field `timeseries` holds the time-series of the solution, and `ts` are the values of `t` for which the solution was calculated. We can print these out to look at the numerical solution:"
   ]
  },
  {
   "cell_type": "code",
   "execution_count": 8,
   "metadata": {
    "collapsed": false
   },
   "outputs": [
    {
     "data": {
      "text/plain": [
       "49968-element Array{Float64,1}:\n",
       " 1.5    \n",
       " 1.50002\n",
       " 1.50003\n",
       " 1.50005\n",
       " 1.50006\n",
       " 1.50008\n",
       " 1.50009\n",
       " 1.50011\n",
       " 1.50012\n",
       " 1.50014\n",
       " 1.50015\n",
       " 1.50017\n",
       " 1.50018\n",
       " ⋮      \n",
       " 2.47281\n",
       " 2.47284\n",
       " 2.47286\n",
       " 2.47289\n",
       " 2.47291\n",
       " 2.47293\n",
       " 2.47296\n",
       " 2.47298\n",
       " 2.47301\n",
       " 2.47303\n",
       " 2.47306\n",
       " 2.47308"
      ]
     },
     "execution_count": 8,
     "metadata": {},
     "output_type": "execute_result"
    }
   ],
   "source": [
    "sol.u"
   ]
  },
  {
   "cell_type": "code",
   "execution_count": 9,
   "metadata": {
    "collapsed": false
   },
   "outputs": [
    {
     "data": {
      "text/plain": [
       "49968-element Array{Float64,1}:\n",
       " 0.0        \n",
       " 2.00133e-5 \n",
       " 4.00267e-5 \n",
       " 6.004e-5   \n",
       " 8.00533e-5 \n",
       " 0.000100067\n",
       " 0.00012008 \n",
       " 0.000140093\n",
       " 0.000160107\n",
       " 0.00018012 \n",
       " 0.000200133\n",
       " 0.000220147\n",
       " 0.00024016 \n",
       " ⋮          \n",
       " 0.999786   \n",
       " 0.999806   \n",
       " 0.999826   \n",
       " 0.999846   \n",
       " 0.999866   \n",
       " 0.999886   \n",
       " 0.999906   \n",
       " 0.999926   \n",
       " 0.999946   \n",
       " 0.999966   \n",
       " 0.999986   \n",
       " 1.0        "
      ]
     },
     "execution_count": 9,
     "metadata": {},
     "output_type": "execute_result"
    }
   ],
   "source": [
    "sol.t"
   ]
  },
  {
   "cell_type": "markdown",
   "metadata": {},
   "source": [
    "The solution object contains some extra goodies to make the analysis easier. For example, we can access the 3rd value of the solution via:"
   ]
  },
  {
   "cell_type": "code",
   "execution_count": 10,
   "metadata": {
    "collapsed": false
   },
   "outputs": [
    {
     "data": {
      "text/plain": [
       "1.5000300201502001"
      ]
     },
     "execution_count": 10,
     "metadata": {},
     "output_type": "execute_result"
    }
   ],
   "source": [
    "sol[3]"
   ]
  },
  {
   "cell_type": "markdown",
   "metadata": {},
   "source": [
    "One neat feature is that the solution type also can act as an interpolating function. If the ODE was solved with `dense=true` (which is the default), then one can access the solution at a time `t` with `sol(t)`. For example, the approximate value at `t=0.52` is given by:"
   ]
  },
  {
   "cell_type": "code",
   "execution_count": 11,
   "metadata": {
    "collapsed": false
   },
   "outputs": [
    {
     "data": {
      "text/plain": [
       "1.9453925993096965"
      ]
     },
     "execution_count": 11,
     "metadata": {},
     "output_type": "execute_result"
    }
   ],
   "source": [
    "sol(0.52)"
   ]
  },
  {
   "cell_type": "markdown",
   "metadata": {},
   "source": [
    "This makes use of a high order interpolation to make its accuracy close to the accuracy of the computed values. Using the solution like this makes it act like a continuous solution!"
   ]
  },
  {
   "cell_type": "markdown",
   "metadata": {},
   "source": [
    "## Systems of ODEs\n",
    "\n",
    "DifferentialEquations.jl can solve very general systems of ODEs. For example, let's solve the ODE:\n",
    "\n",
    "$$  \\left[\\begin{array}{cc}\n",
    "y_{11}^{\\prime} & y_{12}^{\\prime}\\\\\n",
    "y_{21}^{\\prime} & y_{22}^{\\prime}\\\\\n",
    "y_{31}^{\\prime} & y_{32}^{\\prime}\\\\\n",
    "y_{41}^{\\prime} & y_{42}^{\\prime}\n",
    "\\end{array}\\right]=\\left[\\begin{array}{cccc}\n",
    "1 & 0 & 0 & -5\\\\\n",
    "4 & 2 & 4 & -3\\\\\n",
    "-4 & 0 & 0 & 1\\\\\n",
    "5 & -2 & 2 & 3\n",
    "\\end{array}\\right]\\left[\\begin{array}{cc}\n",
    "y_{11} & y_{12}\\\\\n",
    "y_{21} & y_{22}\\\\\n",
    "y_{31} & y_{32}\\\\\n",
    "y_{41} & y_{42}\n",
    "\\end{array}\\right] $$\n",
    "\n",
    "with random initial conditions. To do this, we can write the equation form\n",
    "\n",
    "$$ y^\\prime = f(t,y) $$\n",
    "\n",
    "where $y$ is a matrix. In Julia, we do this by:"
   ]
  },
  {
   "cell_type": "code",
   "execution_count": 12,
   "metadata": {
    "collapsed": false
   },
   "outputs": [
    {
     "name": "stderr",
     "output_type": "stream",
     "text": [
      "WARNING: Method definition f(Any, Any) in module Main at In[2]:1 overwritten at In[12]:6.\n"
     ]
    },
    {
     "data": {
      "text/plain": [
       "AbstractODEProblem{Array{Float64,2},Float64,false}\n"
      ]
     },
     "execution_count": 12,
     "metadata": {},
     "output_type": "execute_result"
    }
   ],
   "source": [
    "A = [1. 0 0 -5\n",
    "     4 -2 4 -3\n",
    "     -4 0 0 1\n",
    "     5 -2 2 3]\n",
    "u0 = rand(4,2)\n",
    "f(t,u) = A*u\n",
    "tspan = (0.0,1.0)\n",
    "prob = ODEProblem(f,u0,tspan)"
   ]
  },
  {
   "cell_type": "markdown",
   "metadata": {},
   "source": [
    "Now we just call the solver:"
   ]
  },
  {
   "cell_type": "code",
   "execution_count": 13,
   "metadata": {
    "collapsed": false
   },
   "outputs": [
    {
     "data": {
      "text/html": [
       "<?xml version=\"1.0\" encoding=\"utf-8\"?>\n",
       "<svg xmlns=\"http://www.w3.org/2000/svg\" xmlns:xlink=\"http://www.w3.org/1999/xlink\" width=\"600\" height=\"400\" viewBox=\"0 0 600 400\">\n",
       "<defs>\n",
       "  <clipPath id=\"clip00\">\n",
       "    <rect x=\"0\" y=\"0\" width=\"600\" height=\"400\"/>\n",
       "  </clipPath>\n",
       "</defs>\n",
       "<polygon clip-path=\"url(#clip00)\" points=\"\n",
       "0,400 600,400 600,0 0,0 \n",
       "  \" fill=\"#ffffff\" fill-opacity=\"1\"/>\n",
       "<defs>\n",
       "  <clipPath id=\"clip01\">\n",
       "    <rect x=\"120\" y=\"0\" width=\"421\" height=\"400\"/>\n",
       "  </clipPath>\n",
       "</defs>\n",
       "<polygon clip-path=\"url(#clip00)\" points=\"\n",
       "12.8259,384.952 596.063,384.952 596.063,3.93701 12.8259,3.93701 \n",
       "  \" fill=\"#ffffff\" fill-opacity=\"1\"/>\n",
       "<defs>\n",
       "  <clipPath id=\"clip02\">\n",
       "    <rect x=\"12\" y=\"3\" width=\"584\" height=\"382\"/>\n",
       "  </clipPath>\n",
       "</defs>\n",
       "<polyline clip-path=\"url(#clip02)\" style=\"stroke:#00002d; stroke-width:0.8; stroke-opacity:0.5; fill:none\" stroke-dasharray=\"1, 2\" points=\"\n",
       "  12.8259,379.237 12.8259,9.65223 \n",
       "  \"/>\n",
       "<polyline clip-path=\"url(#clip02)\" style=\"stroke:#00002d; stroke-width:0.8; stroke-opacity:0.5; fill:none\" stroke-dasharray=\"1, 2\" points=\"\n",
       "  129.473,379.237 129.473,9.65223 \n",
       "  \"/>\n",
       "<polyline clip-path=\"url(#clip02)\" style=\"stroke:#00002d; stroke-width:0.8; stroke-opacity:0.5; fill:none\" stroke-dasharray=\"1, 2\" points=\"\n",
       "  246.121,379.237 246.121,9.65223 \n",
       "  \"/>\n",
       "<polyline clip-path=\"url(#clip02)\" style=\"stroke:#00002d; stroke-width:0.8; stroke-opacity:0.5; fill:none\" stroke-dasharray=\"1, 2\" points=\"\n",
       "  362.768,379.237 362.768,9.65223 \n",
       "  \"/>\n",
       "<polyline clip-path=\"url(#clip02)\" style=\"stroke:#00002d; stroke-width:0.8; stroke-opacity:0.5; fill:none\" stroke-dasharray=\"1, 2\" points=\"\n",
       "  479.416,379.237 479.416,9.65223 \n",
       "  \"/>\n",
       "<polyline clip-path=\"url(#clip02)\" style=\"stroke:#00002d; stroke-width:0.8; stroke-opacity:0.5; fill:none\" stroke-dasharray=\"1, 2\" points=\"\n",
       "  596.063,379.237 596.063,9.65223 \n",
       "  \"/>\n",
       "<polyline clip-path=\"url(#clip02)\" style=\"stroke:#00002d; stroke-width:0.8; stroke-opacity:0.5; fill:none\" stroke-dasharray=\"1, 2\" points=\"\n",
       "  21.5745,243.517 587.314,243.517 \n",
       "  \"/>\n",
       "<polyline clip-path=\"url(#clip02)\" style=\"stroke:#00002d; stroke-width:0.8; stroke-opacity:0.5; fill:none\" stroke-dasharray=\"1, 2\" points=\"\n",
       "  21.5745,97.9 587.314,97.9 \n",
       "  \"/>\n",
       "<polyline clip-path=\"url(#clip02)\" style=\"stroke:#00002d; stroke-width:0.8; stroke-opacity:1; fill:none\" points=\"\n",
       "  12.8259,384.952 596.063,384.952 \n",
       "  \"/>\n",
       "<polyline clip-path=\"url(#clip02)\" style=\"stroke:#00002d; stroke-width:0.8; stroke-opacity:1; fill:none\" points=\"\n",
       "  12.8259,384.952 12.8259,379.237 \n",
       "  \"/>\n",
       "<polyline clip-path=\"url(#clip02)\" style=\"stroke:#00002d; stroke-width:0.8; stroke-opacity:1; fill:none\" points=\"\n",
       "  129.473,384.952 129.473,379.237 \n",
       "  \"/>\n",
       "<polyline clip-path=\"url(#clip02)\" style=\"stroke:#00002d; stroke-width:0.8; stroke-opacity:1; fill:none\" points=\"\n",
       "  246.121,384.952 246.121,379.237 \n",
       "  \"/>\n",
       "<polyline clip-path=\"url(#clip02)\" style=\"stroke:#00002d; stroke-width:0.8; stroke-opacity:1; fill:none\" points=\"\n",
       "  362.768,384.952 362.768,379.237 \n",
       "  \"/>\n",
       "<polyline clip-path=\"url(#clip02)\" style=\"stroke:#00002d; stroke-width:0.8; stroke-opacity:1; fill:none\" points=\"\n",
       "  479.416,384.952 479.416,379.237 \n",
       "  \"/>\n",
       "<polyline clip-path=\"url(#clip02)\" style=\"stroke:#00002d; stroke-width:0.8; stroke-opacity:1; fill:none\" points=\"\n",
       "  596.063,384.952 596.063,379.237 \n",
       "  \"/>\n",
       "<polyline clip-path=\"url(#clip02)\" style=\"stroke:#00002d; stroke-width:0.8; stroke-opacity:1; fill:none\" points=\"\n",
       "  12.8259,384.952 12.8259,3.93701 \n",
       "  \"/>\n",
       "<polyline clip-path=\"url(#clip02)\" style=\"stroke:#00002d; stroke-width:0.8; stroke-opacity:1; fill:none\" points=\"\n",
       "  12.8259,243.517 21.5745,243.517 \n",
       "  \"/>\n",
       "<polyline clip-path=\"url(#clip02)\" style=\"stroke:#00002d; stroke-width:0.8; stroke-opacity:1; fill:none\" points=\"\n",
       "  12.8259,97.9 21.5745,97.9 \n",
       "  \"/>\n",
       "<g clip-path=\"url(#clip00)\">\n",
       "<text style=\"fill:#00002d; fill-opacity:1; font-family:Arial,Helvetica Neue,Helvetica,sans-serif; font-size:12; text-anchor:middle;\" transform=\"rotate(0, 12.8259, 396.952)\" x=\"12.8259\" y=\"396.952\">0.0</text>\n",
       "</g>\n",
       "<g clip-path=\"url(#clip00)\">\n",
       "<text style=\"fill:#00002d; fill-opacity:1; font-family:Arial,Helvetica Neue,Helvetica,sans-serif; font-size:12; text-anchor:middle;\" transform=\"rotate(0, 129.473, 396.952)\" x=\"129.473\" y=\"396.952\">0.2</text>\n",
       "</g>\n",
       "<g clip-path=\"url(#clip00)\">\n",
       "<text style=\"fill:#00002d; fill-opacity:1; font-family:Arial,Helvetica Neue,Helvetica,sans-serif; font-size:12; text-anchor:middle;\" transform=\"rotate(0, 246.121, 396.952)\" x=\"246.121\" y=\"396.952\">0.4</text>\n",
       "</g>\n",
       "<g clip-path=\"url(#clip00)\">\n",
       "<text style=\"fill:#00002d; fill-opacity:1; font-family:Arial,Helvetica Neue,Helvetica,sans-serif; font-size:12; text-anchor:middle;\" transform=\"rotate(0, 362.768, 396.952)\" x=\"362.768\" y=\"396.952\">0.6</text>\n",
       "</g>\n",
       "<g clip-path=\"url(#clip00)\">\n",
       "<text style=\"fill:#00002d; fill-opacity:1; font-family:Arial,Helvetica Neue,Helvetica,sans-serif; font-size:12; text-anchor:middle;\" transform=\"rotate(0, 479.416, 396.952)\" x=\"479.416\" y=\"396.952\">0.8</text>\n",
       "</g>\n",
       "<g clip-path=\"url(#clip00)\">\n",
       "<text style=\"fill:#00002d; fill-opacity:1; font-family:Arial,Helvetica Neue,Helvetica,sans-serif; font-size:12; text-anchor:middle;\" transform=\"rotate(0, 596.063, 396.952)\" x=\"596.063\" y=\"396.952\">1.0</text>\n",
       "</g>\n",
       "<g clip-path=\"url(#clip00)\">\n",
       "<text style=\"fill:#00002d; fill-opacity:1; font-family:Arial,Helvetica Neue,Helvetica,sans-serif; font-size:12; text-anchor:end;\" transform=\"rotate(0, 11.6259, 248.017)\" x=\"11.6259\" y=\"248.017\">0</text>\n",
       "</g>\n",
       "<g clip-path=\"url(#clip00)\">\n",
       "<text style=\"fill:#00002d; fill-opacity:1; font-family:Arial,Helvetica Neue,Helvetica,sans-serif; font-size:12; text-anchor:end;\" transform=\"rotate(0, 11.6259, 102.4)\" x=\"11.6259\" y=\"102.4\">5</text>\n",
       "</g>\n",
       "<polyline clip-path=\"url(#clip02)\" style=\"stroke:#0099ff; stroke-width:2.4; stroke-opacity:1; fill:none\" points=\"\n",
       "  12.8259,238.644 18.7172,239.684 24.6085,240.759 30.4997,241.868 36.391,243.011 42.2823,244.187 48.1736,245.395 54.0649,246.634 59.9562,247.903 65.8475,249.202 \n",
       "  71.7387,250.529 77.63,251.883 83.5213,253.264 89.4126,254.669 95.3039,256.099 101.195,257.551 107.086,259.024 112.978,260.517 118.869,262.029 124.76,263.559 \n",
       "  130.652,265.104 136.543,266.664 142.434,268.236 148.325,269.82 154.217,271.413 160.108,273.015 165.999,274.622 171.891,276.234 177.782,277.848 183.673,279.463 \n",
       "  189.564,281.077 195.456,282.688 201.347,284.294 207.238,285.893 213.13,287.482 219.021,289.06 224.912,290.624 230.803,292.173 236.695,293.703 242.586,295.213 \n",
       "  248.477,296.7 254.369,298.162 260.26,299.596 266.151,301.001 272.042,302.372 277.934,303.709 283.825,305.007 289.716,306.265 295.608,307.48 301.499,308.649 \n",
       "  307.39,309.77 313.281,310.839 319.173,311.854 325.064,312.812 330.955,313.71 336.847,314.545 342.738,315.314 348.629,316.015 354.52,316.644 360.412,317.198 \n",
       "  366.303,317.674 372.194,318.07 378.085,318.382 383.977,318.607 389.868,318.741 395.759,318.783 401.651,318.729 407.542,318.575 413.433,318.319 419.324,317.957 \n",
       "  425.216,317.487 431.107,316.905 436.998,316.208 442.89,315.393 448.781,314.458 454.672,313.398 460.563,312.212 466.455,310.895 472.346,309.446 478.237,307.86 \n",
       "  484.129,306.136 490.02,304.27 495.911,302.26 501.802,300.102 507.694,297.795 513.585,295.335 519.476,292.719 525.368,289.946 531.259,287.013 537.15,283.918 \n",
       "  543.041,280.658 548.933,277.231 554.824,273.635 560.715,269.867 566.607,265.927 572.498,261.812 578.389,257.52 584.28,253.049 590.172,248.399 596.063,243.568 \n",
       "  \n",
       "  \"/>\n",
       "<polyline clip-path=\"url(#clip02)\" style=\"stroke:#e9746a; stroke-width:2.4; stroke-opacity:1; fill:none\" points=\"\n",
       "  12.8259,222.755 18.7172,223.571 24.6085,224.425 30.4997,225.314 36.391,226.238 42.2823,227.193 48.1736,228.178 54.0649,229.192 59.9562,230.23 65.8475,231.292 \n",
       "  71.7387,232.375 77.63,233.476 83.5213,234.594 89.4126,235.726 95.3039,236.868 101.195,238.02 107.086,239.178 112.978,240.339 118.869,241.501 124.76,242.661 \n",
       "  130.652,243.816 136.543,244.965 142.434,246.103 148.325,247.228 154.217,248.337 160.108,249.427 165.999,250.496 171.891,251.54 177.782,252.556 183.673,253.542 \n",
       "  189.564,254.494 195.456,255.41 201.347,256.285 207.238,257.118 213.13,257.906 219.021,258.644 224.912,259.331 230.803,259.962 236.695,260.536 242.586,261.048 \n",
       "  248.477,261.496 254.369,261.877 260.26,262.188 266.151,262.425 272.042,262.586 277.934,262.668 283.825,262.667 289.716,262.582 295.608,262.408 301.499,262.143 \n",
       "  307.39,261.785 313.281,261.329 319.173,260.775 325.064,260.118 330.955,259.357 336.847,258.488 342.738,257.51 348.629,256.419 354.52,255.213 360.412,253.89 \n",
       "  366.303,252.448 372.194,250.884 378.085,249.196 383.977,247.383 389.868,245.442 395.759,243.371 401.651,241.168 407.542,238.833 413.433,236.363 419.324,233.756 \n",
       "  425.216,231.012 431.107,228.13 436.998,225.107 442.89,221.944 448.781,218.639 454.672,215.192 460.563,211.602 466.455,207.869 472.346,203.991 478.237,199.97 \n",
       "  484.129,195.806 490.02,191.497 495.911,187.046 501.802,182.451 507.694,177.715 513.585,172.837 519.476,167.819 525.368,162.662 531.259,157.368 537.15,151.938 \n",
       "  543.041,146.374 548.933,140.678 554.824,134.853 560.715,128.901 566.607,122.824 572.498,116.626 578.389,110.309 584.28,103.878 590.172,97.3351 596.063,90.685 \n",
       "  \n",
       "  \"/>\n",
       "<polyline clip-path=\"url(#clip02)\" style=\"stroke:#3cb370; stroke-width:2.4; stroke-opacity:1; fill:none\" points=\"\n",
       "  12.8259,241.801 18.7172,241.761 24.6085,241.672 30.4997,241.535 36.391,241.348 42.2823,241.11 48.1736,240.819 54.0649,240.476 59.9562,240.078 65.8475,239.625 \n",
       "  71.7387,239.116 77.63,238.55 83.5213,237.926 89.4126,237.244 95.3039,236.503 101.195,235.702 107.086,234.84 112.978,233.918 118.869,232.934 124.76,231.888 \n",
       "  130.652,230.78 136.543,229.61 142.434,228.377 148.325,227.081 154.217,225.722 160.108,224.3 165.999,222.816 171.891,221.268 177.782,219.659 183.673,217.987 \n",
       "  189.564,216.253 195.456,214.458 201.347,212.603 207.238,210.687 213.13,208.712 219.021,206.679 224.912,204.588 230.803,202.44 236.695,200.237 242.586,197.98 \n",
       "  248.477,195.669 254.369,193.307 260.26,190.895 266.151,188.435 272.042,185.928 277.934,183.376 283.825,180.781 289.716,178.144 295.608,175.469 301.499,172.758 \n",
       "  307.39,170.012 313.281,167.235 319.173,164.428 325.064,161.595 330.955,158.738 336.847,155.86 342.738,152.965 348.629,150.055 354.52,147.135 360.412,144.206 \n",
       "  366.303,141.273 372.194,138.34 378.085,135.409 383.977,132.486 389.868,129.574 395.759,126.677 401.651,123.8 407.542,120.947 413.433,118.121 419.324,115.329 \n",
       "  425.216,112.575 431.107,109.863 436.998,107.198 442.89,104.586 448.781,102.032 454.672,99.5405 460.563,97.1178 466.455,94.7692 472.346,92.5002 478.237,90.3167 \n",
       "  484.129,88.2245 490.02,86.2296 495.911,84.338 501.802,82.5559 507.694,80.8895 513.585,79.3451 519.476,77.929 525.368,76.6478 531.259,75.5081 537.15,74.5164 \n",
       "  543.041,73.6795 548.933,73.0043 554.824,72.4976 560.715,72.1665 566.607,72.0179 572.498,72.0591 578.389,72.2971 584.28,72.739 590.172,73.3917 596.063,74.2627 \n",
       "  \n",
       "  \"/>\n",
       "<polyline clip-path=\"url(#clip02)\" style=\"stroke:#d96fd5; stroke-width:2.4; stroke-opacity:1; fill:none\" points=\"\n",
       "  12.8259,222.305 18.7172,221.811 24.6085,221.338 30.4997,220.886 36.391,220.455 42.2823,220.048 48.1736,219.663 54.0649,219.303 59.9562,218.967 65.8475,218.656 \n",
       "  71.7387,218.371 77.63,218.113 83.5213,217.882 89.4126,217.679 95.3039,217.504 101.195,217.358 107.086,217.243 112.978,217.157 118.869,217.103 124.76,217.081 \n",
       "  130.652,217.09 136.543,217.133 142.434,217.209 148.325,217.32 154.217,217.465 160.108,217.645 165.999,217.861 171.891,218.114 177.782,218.403 183.673,218.731 \n",
       "  189.564,219.096 195.456,219.5 201.347,219.943 207.238,220.425 213.13,220.948 219.021,221.511 224.912,222.115 230.803,222.76 236.695,223.447 242.586,224.177 \n",
       "  248.477,224.949 254.369,225.764 260.26,226.623 266.151,227.525 272.042,228.47 277.934,229.46 283.825,230.495 289.716,231.574 295.608,232.698 301.499,233.866 \n",
       "  307.39,235.08 313.281,236.339 319.173,237.644 325.064,238.993 330.955,240.388 336.847,241.829 342.738,243.314 348.629,244.845 354.52,246.42 360.412,248.04 \n",
       "  366.303,249.705 372.194,251.414 378.085,253.167 383.977,254.963 389.868,256.803 395.759,258.685 401.651,260.61 407.542,262.576 413.433,264.583 419.324,266.631 \n",
       "  425.216,268.718 431.107,270.844 436.998,273.009 442.89,275.21 448.781,277.448 454.672,279.72 460.563,282.027 466.455,284.367 472.346,286.739 478.237,289.141 \n",
       "  484.129,291.572 490.02,294.031 495.911,296.517 501.802,299.027 507.694,301.56 513.585,304.114 519.476,306.688 525.368,309.28 531.259,311.888 537.15,314.51 \n",
       "  543.041,317.143 548.933,319.786 554.824,322.436 560.715,325.091 566.607,327.748 572.498,330.406 578.389,333.061 584.28,335.71 590.172,338.352 596.063,340.983 \n",
       "  \n",
       "  \"/>\n",
       "<polyline clip-path=\"url(#clip02)\" style=\"stroke:#b28c19; stroke-width:2.4; stroke-opacity:1; fill:none\" points=\"\n",
       "  12.8259,214.636 18.7172,214.51 24.6085,214.449 30.4997,214.454 36.391,214.526 42.2823,214.664 48.1736,214.87 54.0649,215.144 59.9562,215.486 65.8475,215.896 \n",
       "  71.7387,216.375 77.63,216.923 83.5213,217.541 89.4126,218.227 95.3039,218.983 101.195,219.808 107.086,220.703 112.978,221.667 118.869,222.7 124.76,223.802 \n",
       "  130.652,224.972 136.543,226.21 142.434,227.517 148.325,228.89 154.217,230.331 160.108,231.837 165.999,233.41 171.891,235.047 177.782,236.748 183.673,238.512 \n",
       "  189.564,240.339 195.456,242.227 201.347,244.175 207.238,246.182 213.13,248.247 219.021,250.369 224.912,252.546 230.803,254.776 236.695,257.059 242.586,259.393 \n",
       "  248.477,261.775 254.369,264.205 260.26,266.681 266.151,269.2 272.042,271.761 277.934,274.361 283.825,276.998 289.716,279.671 295.608,282.377 301.499,285.113 \n",
       "  307.39,287.878 313.281,290.668 319.173,293.48 325.064,296.313 330.955,299.163 336.847,302.028 342.738,304.904 348.629,307.789 354.52,310.679 360.412,313.57 \n",
       "  366.303,316.461 372.194,319.347 378.085,322.225 383.977,325.09 389.868,327.941 395.759,330.772 401.651,333.58 407.542,336.362 413.433,339.112 419.324,341.827 \n",
       "  425.216,344.504 431.107,347.136 436.998,349.721 442.89,352.254 448.781,354.731 454.672,357.146 460.563,359.495 466.455,361.773 472.346,363.977 478.237,366.099 \n",
       "  484.129,368.137 490.02,370.085 495.911,371.937 501.802,373.689 507.694,375.336 513.585,376.871 519.476,378.291 525.368,379.589 531.259,380.761 537.15,381.801 \n",
       "  543.041,382.702 548.933,383.461 554.824,384.071 560.715,384.527 566.607,384.822 572.498,384.952 578.389,384.91 584.28,384.691 590.172,384.29 596.063,383.7 \n",
       "  \n",
       "  \"/>\n",
       "<polyline clip-path=\"url(#clip02)\" style=\"stroke:#00abab; stroke-width:2.4; stroke-opacity:1; fill:none\" points=\"\n",
       "  12.8259,215.764 18.7172,214.627 24.6085,213.594 30.4997,212.664 36.391,211.838 42.2823,211.116 48.1736,210.497 54.0649,209.98 59.9562,209.566 65.8475,209.254 \n",
       "  71.7387,209.043 77.63,208.932 83.5213,208.92 89.4126,209.007 95.3039,209.191 101.195,209.47 107.086,209.844 112.978,210.31 118.869,210.868 124.76,211.515 \n",
       "  130.652,212.25 136.543,213.07 142.434,213.974 148.325,214.959 154.217,216.023 160.108,217.164 165.999,218.379 171.891,219.665 177.782,221.02 183.673,222.441 \n",
       "  189.564,223.925 195.456,225.468 201.347,227.069 207.238,228.723 213.13,230.427 219.021,232.177 224.912,233.971 230.803,235.805 236.695,237.674 242.586,239.575 \n",
       "  248.477,241.504 254.369,243.457 260.26,245.43 266.151,247.419 272.042,249.419 277.934,251.427 283.825,253.437 289.716,255.446 295.608,257.449 301.499,259.44 \n",
       "  307.39,261.416 313.281,263.372 319.173,265.303 325.064,267.204 330.955,269.07 336.847,270.896 342.738,272.677 348.629,274.408 354.52,276.084 360.412,277.699 \n",
       "  366.303,279.25 372.194,280.729 378.085,282.133 383.977,283.456 389.868,284.691 395.759,285.835 401.651,286.882 407.542,287.826 413.433,288.663 419.324,289.386 \n",
       "  425.216,289.99 431.107,290.47 436.998,290.822 442.89,291.039 448.781,291.116 454.672,291.048 460.563,290.829 466.455,290.456 472.346,289.921 478.237,289.222 \n",
       "  484.129,288.351 490.02,287.305 495.911,286.078 501.802,284.666 507.694,283.063 513.585,281.266 519.476,279.269 525.368,277.069 531.259,274.66 537.15,272.04 \n",
       "  543.041,269.203 548.933,266.146 554.824,262.864 560.715,259.355 566.607,255.614 572.498,251.638 578.389,247.423 584.28,242.967 590.172,238.267 596.063,233.32 \n",
       "  \n",
       "  \"/>\n",
       "<polyline clip-path=\"url(#clip02)\" style=\"stroke:#ff5d5d; stroke-width:2.4; stroke-opacity:1; fill:none\" points=\"\n",
       "  12.8259,227.123 18.7172,228.259 24.6085,229.386 30.4997,230.501 36.391,231.601 42.2823,232.684 48.1736,233.746 54.0649,234.786 59.9562,235.8 65.8475,236.786 \n",
       "  71.7387,237.742 77.63,238.664 83.5213,239.549 89.4126,240.396 95.3039,241.201 101.195,241.962 107.086,242.677 112.978,243.341 118.869,243.954 124.76,244.511 \n",
       "  130.652,245.012 136.543,245.452 142.434,245.831 148.325,246.144 154.217,246.39 160.108,246.566 165.999,246.67 171.891,246.699 177.782,246.652 183.673,246.525 \n",
       "  189.564,246.317 195.456,246.025 201.347,245.648 207.238,245.183 213.13,244.628 219.021,243.981 224.912,243.242 230.803,242.406 236.695,241.474 242.586,240.443 \n",
       "  248.477,239.311 254.369,238.078 260.26,236.741 266.151,235.3 272.042,233.753 277.934,232.099 283.825,230.337 289.716,228.466 295.608,226.486 301.499,224.394 \n",
       "  307.39,222.192 313.281,219.878 319.173,217.452 325.064,214.913 330.955,212.262 336.847,209.498 342.738,206.621 348.629,203.633 354.52,200.532 360.412,197.321 \n",
       "  366.303,193.998 372.194,190.566 378.085,187.024 383.977,183.375 389.868,179.619 395.759,175.758 401.651,171.793 407.542,167.727 413.433,163.56 419.324,159.295 \n",
       "  425.216,154.935 431.107,150.481 436.998,145.937 442.89,141.305 448.781,136.588 454.672,131.79 460.563,126.913 466.455,121.962 472.346,116.94 478.237,111.851 \n",
       "  484.129,106.699 490.02,101.488 495.911,96.2239 501.802,90.9104 507.694,85.5527 513.585,80.156 519.476,74.7257 525.368,69.2675 531.259,63.7871 537.15,58.2907 \n",
       "  543.041,52.7845 548.933,47.2751 554.824,41.7692 560.715,36.2738 566.607,30.796 572.498,25.3432 578.389,19.9229 584.28,14.5431 590.172,9.2117 596.063,3.93701 \n",
       "  \n",
       "  \"/>\n",
       "<polyline clip-path=\"url(#clip02)\" style=\"stroke:#cc853f; stroke-width:2.4; stroke-opacity:1; fill:none\" points=\"\n",
       "  12.8259,240.872 18.7172,239.562 24.6085,238.253 30.4997,236.946 36.391,235.641 42.2823,234.339 48.1736,233.042 54.0649,231.75 59.9562,230.465 65.8475,229.188 \n",
       "  71.7387,227.92 77.63,226.661 83.5213,225.414 89.4126,224.178 95.3039,222.956 101.195,221.747 107.086,220.555 112.978,219.378 118.869,218.22 124.76,217.08 \n",
       "  130.652,215.96 136.543,214.86 142.434,213.783 148.325,212.73 154.217,211.701 160.108,210.697 165.999,209.72 171.891,208.771 177.782,207.851 183.673,206.962 \n",
       "  189.564,206.104 195.456,205.279 201.347,204.487 207.238,203.731 213.13,203.011 219.021,202.328 224.912,201.684 230.803,201.079 236.695,200.516 242.586,199.995 \n",
       "  248.477,199.518 254.369,199.085 260.26,198.698 266.151,198.358 272.042,198.066 277.934,197.823 283.825,197.632 289.716,197.491 295.608,197.404 301.499,197.371 \n",
       "  307.39,197.394 313.281,197.473 319.173,197.609 325.064,197.804 330.955,198.059 336.847,198.375 342.738,198.753 348.629,199.194 354.52,199.7 360.412,200.271 \n",
       "  366.303,200.908 372.194,201.612 378.085,202.385 383.977,203.227 389.868,204.139 395.759,205.123 401.651,206.179 407.542,207.308 413.433,208.511 419.324,209.788 \n",
       "  425.216,211.141 431.107,212.57 436.998,214.076 442.89,215.66 448.781,217.322 454.672,219.063 460.563,220.883 466.455,222.783 472.346,224.764 478.237,226.825 \n",
       "  484.129,228.968 490.02,231.192 495.911,233.498 501.802,235.885 507.694,238.356 513.585,240.908 519.476,243.542 525.368,246.259 531.259,249.057 537.15,251.937 \n",
       "  543.041,254.899 548.933,257.942 554.824,261.066 560.715,264.269 566.607,267.553 572.498,270.916 578.389,274.356 584.28,277.875 590.172,281.469 596.063,285.139 \n",
       "  \n",
       "  \"/>\n",
       "<polygon clip-path=\"url(#clip00)\" points=\"\n",
       "505.547,160.897 578.063,160.897 578.063,24.817 505.547,24.817 \n",
       "  \" fill=\"#ffffff\" fill-opacity=\"1\"/>\n",
       "<polyline clip-path=\"url(#clip00)\" style=\"stroke:#00002d; stroke-width:0.8; stroke-opacity:1; fill:none\" points=\"\n",
       "  505.547,160.897 578.063,160.897 578.063,24.817 505.547,24.817 505.547,160.897 \n",
       "  \"/>\n",
       "<polyline clip-path=\"url(#clip00)\" style=\"stroke:#0099ff; stroke-width:2.4; stroke-opacity:1; fill:none\" points=\"\n",
       "  511.547,39.937 547.547,39.937 \n",
       "  \"/>\n",
       "<g clip-path=\"url(#clip00)\">\n",
       "<text style=\"fill:#00002d; fill-opacity:1; font-family:Arial,Helvetica Neue,Helvetica,sans-serif; font-size:12; text-anchor:start;\" transform=\"rotate(0, 553.547, 44.437)\" x=\"553.547\" y=\"44.437\">y1</text>\n",
       "</g>\n",
       "<polyline clip-path=\"url(#clip00)\" style=\"stroke:#e9746a; stroke-width:2.4; stroke-opacity:1; fill:none\" points=\"\n",
       "  511.547,55.057 547.547,55.057 \n",
       "  \"/>\n",
       "<g clip-path=\"url(#clip00)\">\n",
       "<text style=\"fill:#00002d; fill-opacity:1; font-family:Arial,Helvetica Neue,Helvetica,sans-serif; font-size:12; text-anchor:start;\" transform=\"rotate(0, 553.547, 59.557)\" x=\"553.547\" y=\"59.557\">y2</text>\n",
       "</g>\n",
       "<polyline clip-path=\"url(#clip00)\" style=\"stroke:#3cb370; stroke-width:2.4; stroke-opacity:1; fill:none\" points=\"\n",
       "  511.547,70.177 547.547,70.177 \n",
       "  \"/>\n",
       "<g clip-path=\"url(#clip00)\">\n",
       "<text style=\"fill:#00002d; fill-opacity:1; font-family:Arial,Helvetica Neue,Helvetica,sans-serif; font-size:12; text-anchor:start;\" transform=\"rotate(0, 553.547, 74.677)\" x=\"553.547\" y=\"74.677\">y3</text>\n",
       "</g>\n",
       "<polyline clip-path=\"url(#clip00)\" style=\"stroke:#d96fd5; stroke-width:2.4; stroke-opacity:1; fill:none\" points=\"\n",
       "  511.547,85.297 547.547,85.297 \n",
       "  \"/>\n",
       "<g clip-path=\"url(#clip00)\">\n",
       "<text style=\"fill:#00002d; fill-opacity:1; font-family:Arial,Helvetica Neue,Helvetica,sans-serif; font-size:12; text-anchor:start;\" transform=\"rotate(0, 553.547, 89.797)\" x=\"553.547\" y=\"89.797\">y4</text>\n",
       "</g>\n",
       "<polyline clip-path=\"url(#clip00)\" style=\"stroke:#b28c19; stroke-width:2.4; stroke-opacity:1; fill:none\" points=\"\n",
       "  511.547,100.417 547.547,100.417 \n",
       "  \"/>\n",
       "<g clip-path=\"url(#clip00)\">\n",
       "<text style=\"fill:#00002d; fill-opacity:1; font-family:Arial,Helvetica Neue,Helvetica,sans-serif; font-size:12; text-anchor:start;\" transform=\"rotate(0, 553.547, 104.917)\" x=\"553.547\" y=\"104.917\">y5</text>\n",
       "</g>\n",
       "<polyline clip-path=\"url(#clip00)\" style=\"stroke:#00abab; stroke-width:2.4; stroke-opacity:1; fill:none\" points=\"\n",
       "  511.547,115.537 547.547,115.537 \n",
       "  \"/>\n",
       "<g clip-path=\"url(#clip00)\">\n",
       "<text style=\"fill:#00002d; fill-opacity:1; font-family:Arial,Helvetica Neue,Helvetica,sans-serif; font-size:12; text-anchor:start;\" transform=\"rotate(0, 553.547, 120.037)\" x=\"553.547\" y=\"120.037\">y6</text>\n",
       "</g>\n",
       "<polyline clip-path=\"url(#clip00)\" style=\"stroke:#ff5d5d; stroke-width:2.4; stroke-opacity:1; fill:none\" points=\"\n",
       "  511.547,130.657 547.547,130.657 \n",
       "  \"/>\n",
       "<g clip-path=\"url(#clip00)\">\n",
       "<text style=\"fill:#00002d; fill-opacity:1; font-family:Arial,Helvetica Neue,Helvetica,sans-serif; font-size:12; text-anchor:start;\" transform=\"rotate(0, 553.547, 135.157)\" x=\"553.547\" y=\"135.157\">y7</text>\n",
       "</g>\n",
       "<polyline clip-path=\"url(#clip00)\" style=\"stroke:#cc853f; stroke-width:2.4; stroke-opacity:1; fill:none\" points=\"\n",
       "  511.547,145.777 547.547,145.777 \n",
       "  \"/>\n",
       "<g clip-path=\"url(#clip00)\">\n",
       "<text style=\"fill:#00002d; fill-opacity:1; font-family:Arial,Helvetica Neue,Helvetica,sans-serif; font-size:12; text-anchor:start;\" transform=\"rotate(0, 553.547, 150.277)\" x=\"553.547\" y=\"150.277\">y8</text>\n",
       "</g>\n",
       "</svg>\n"
      ]
     },
     "execution_count": 13,
     "metadata": {},
     "output_type": "execute_result"
    }
   ],
   "source": [
    "sol = solve(prob)\n",
    "plot(sol)"
   ]
  },
  {
   "cell_type": "markdown",
   "metadata": {},
   "source": [
    " ## More Information\n",
    " \n",
    "That concludes this first introduction to DifferentialEquations.jl. For more examples, please check out the other IJulia notebooks contained in the /examples folder. If you have IJulia installed, these can be accessed via:"
   ]
  },
  {
   "cell_type": "code",
   "execution_count": null,
   "metadata": {
    "collapsed": false
   },
   "outputs": [],
   "source": [
    "using IJulia\n",
    "cd(Pkg.dir(\"DifferentialEquations\")*\"/examples\")\n",
    "notebook()"
   ]
  },
  {
   "cell_type": "markdown",
   "metadata": {},
   "source": [
    "Check out the documentation for some tutorials and in-depth information about the solvers."
   ]
  }
 ],
 "metadata": {
  "kernelspec": {
   "display_name": "Julia 0.5.0-rc3",
   "language": "julia",
   "name": "julia-0.5"
  },
  "language_info": {
   "file_extension": ".jl",
   "mimetype": "application/julia",
   "name": "julia",
   "version": "0.5.0"
  }
 },
 "nbformat": 4,
 "nbformat_minor": 0
}
