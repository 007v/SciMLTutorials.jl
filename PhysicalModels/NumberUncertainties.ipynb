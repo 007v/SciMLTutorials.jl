{
 "cells": [
  {
   "cell_type": "markdown",
   "metadata": {},
   "source": [
    "# Numbers with uncertainties\n",
    "\n",
    "The result of a measurement should be given as a number with an attached uncertainties, besides the physical unit, and all operations performed involving the result of the measurement should propagate the uncertainty, taking care of correlation between quantities.\n",
    "\n",
    "There is a Julia package for dealing with numbers with uncertainties: [`Measurements.jl`](https://github.com/JuliaPhysics/Measurements.jl).  Thanks to Julia's features, `DifferentialEquations.jl` easily works together with `Measurements.jl` out-of-the-box.\n",
    "\n",
    "This notebook will cover some of the examples from the tutorial about lassical Physics."
   ]
  },
  {
   "cell_type": "markdown",
   "metadata": {},
   "source": [
    "## Radioactive Decay of Carbon-14\n",
    "\n",
    "The rate of decay of carbon-14 is governed by a first order linear ordinary differential equation\n",
    "\n",
    "$$ \\frac{\\mathrm{d}u(t)}{\\mathrm{d}t} = -c u(t) $$\n",
    "\n",
    "where $c = (5730 \\pm 40)$ years is the half-life of carbon-14."
   ]
  },
  {
   "cell_type": "code",
   "execution_count": 2,
   "metadata": {
    "collapsed": false,
    "scrolled": false
   },
   "outputs": [
    {
     "ename": "LoadError",
     "evalue": "\u001b[91mMethodError: Cannot `convert` an object of type Measurements.Measurement{Float64} to an object of type Float64\nThis may have arisen from a call to the constructor Float64(...),\nsince type constructors fall back to convert methods.\u001b[39m",
     "output_type": "error",
     "traceback": [
      "\u001b[91mMethodError: Cannot `convert` an object of type Measurements.Measurement{Float64} to an object of type Float64\nThis may have arisen from a call to the constructor Float64(...),\nsince type constructors fall back to convert methods.\u001b[39m",
      "",
      "Stacktrace:",
      " [1] \u001b[1mode_determine_initdt\u001b[22m\u001b[22m\u001b[1m(\u001b[22m\u001b[22m::Measurements.Measurement{Float64}, ::Float64, ::Float64, ::Float64, ::Measurements.Measurement{Float64}, ::Measurements.Measurement{Float64}, ::DiffEqBase.#ODE_DEFAULT_NORM, ::DiffEqBase.ODEProblem{Measurements.Measurement{Float64},Float64,false,#radioactivedecay,Void,UniformScaling{Int64}}, ::Int64\u001b[1m)\u001b[22m\u001b[22m at \u001b[1m/home/user/.julia/v0.6/OrdinaryDiffEq/src/initdt.jl:43\u001b[22m\u001b[22m",
      " [2] \u001b[1m#init#88\u001b[22m\u001b[22m\u001b[1m(\u001b[22m\u001b[22m::Int64, ::Array{Float64,1}, ::Array{Float64,1}, ::Array{Float64,1}, ::Void, ::Bool, ::Void, ::Bool, ::Bool, ::Bool, ::Float64, ::Bool, ::Rational{Int64}, ::Void, ::Void, ::Int64, ::Rational{Int64}, ::Rational{Int64}, ::Bool, ::Rational{Int64}, ::Rational{Int64}, ::Int64, ::Float64, ::Float64, ::DiffEqBase.#ODE_DEFAULT_NORM, ::DiffEqBase.#ODE_DEFAULT_ISOUTOFDOMAIN, ::DiffEqBase.#ODE_DEFAULT_UNSTABLE_CHECK, ::Bool, ::Bool, ::Bool, ::Bool, ::Bool, ::Bool, ::Bool, ::Int64, ::String, ::DiffEqBase.#ODE_DEFAULT_PROG_MESSAGE, ::Void, ::Void, ::Bool, ::Bool, ::Array{Any,1}, ::DiffEqBase.#init, ::DiffEqBase.ODEProblem{Measurements.Measurement{Float64},Float64,false,#radioactivedecay,Void,UniformScaling{Int64}}, ::OrdinaryDiffEq.Tsit5, ::Array{Any,1}, ::Array{Any,1}, ::Array{Any,1}, ::Type{Val{true}}\u001b[1m)\u001b[22m\u001b[22m at \u001b[1m/home/user/.julia/v0.6/OrdinaryDiffEq/src/solve.jl:140\u001b[22m\u001b[22m",
      " [3] \u001b[1minit\u001b[22m\u001b[22m\u001b[1m(\u001b[22m\u001b[22m::DiffEqBase.ODEProblem{Measurements.Measurement{Float64},Float64,false,#radioactivedecay,Void,UniformScaling{Int64}}, ::OrdinaryDiffEq.Tsit5, ::Array{Any,1}, ::Array{Any,1}, ::Array{Any,1}, ::Type{Val{true}}\u001b[1m)\u001b[22m\u001b[22m at \u001b[1m/home/user/.julia/v0.6/OrdinaryDiffEq/src/solve.jl:46\u001b[22m\u001b[22m",
      " [4] \u001b[1m#solve#87\u001b[22m\u001b[22m\u001b[1m(\u001b[22m\u001b[22m::Array{Any,1}, ::Function, ::DiffEqBase.ODEProblem{Measurements.Measurement{Float64},Float64,false,#radioactivedecay,Void,UniformScaling{Int64}}, ::OrdinaryDiffEq.Tsit5, ::Array{Any,1}, ::Array{Any,1}, ::Array{Any,1}, ::Type{Val{true}}\u001b[1m)\u001b[22m\u001b[22m at \u001b[1m/home/user/.julia/v0.6/OrdinaryDiffEq/src/solve.jl:6\u001b[22m\u001b[22m",
      " [5] \u001b[1msolve\u001b[22m\u001b[22m\u001b[1m(\u001b[22m\u001b[22m::DiffEqBase.ODEProblem{Measurements.Measurement{Float64},Float64,false,#radioactivedecay,Void,UniformScaling{Int64}}, ::OrdinaryDiffEq.Tsit5\u001b[1m)\u001b[22m\u001b[22m at \u001b[1m/home/user/.julia/v0.6/OrdinaryDiffEq/src/solve.jl:6\u001b[22m\u001b[22m",
      " [6] \u001b[1minclude_string\u001b[22m\u001b[22m\u001b[1m(\u001b[22m\u001b[22m::String, ::String\u001b[1m)\u001b[22m\u001b[22m at \u001b[1m./loading.jl:515\u001b[22m\u001b[22m"
     ]
    }
   ],
   "source": [
    "using DifferentialEquations, Measurements\n",
    "\n",
    "#Setup\n",
    "u₀ = 1 ± 0\n",
    "tspan = (0.0, 1.0)\n",
    "\n",
    "#Define the problem\n",
    "radioactivedecay(t,u) = -(5.730 ± 0.040)*u\n",
    "\n",
    "#Pass to solver\n",
    "prob = ODEProblem(radioactivedecay,u₀,tspan)\n",
    "sol = solve(prob,Tsit5());"
   ]
  },
  {
   "cell_type": "markdown",
   "metadata": {},
   "source": [
    "Oh, no, we got an error!\n",
    "\n",
    "The problem lies in the fact that the extrema of the time interval in which we want to solve the equation, `tspan`, should be of type `Measurement` as well."
   ]
  },
  {
   "cell_type": "code",
   "execution_count": 3,
   "metadata": {
    "collapsed": false
   },
   "outputs": [
    {
     "name": "stdout",
     "output_type": "stream",
     "text": [
      "Quantity of carbon-14 after 780.1928441909264 years: 0.011442440679299993 ± 1.2277661385596172\n"
     ]
    }
   ],
   "source": [
    "tspan = (0.0 ± 0, 1.0 ± 0)\n",
    "prob = ODEProblem(radioactivedecay, u₀, tspan)\n",
    "sol = solve(prob, Tsit5())\n",
    "\n",
    "println(\"Quantity of carbon-14 after \",  Measurements.value(sol.t[10]) * 1000, \" years: \", sol[10])"
   ]
  },
  {
   "cell_type": "markdown",
   "metadata": {},
   "source": [
    "Ok, now it works.  What... wait, the uncertainty looks too large!\n",
    "\n",
    "Yes, here is a subtlety of `Measurements.jl` that you should be aware of:"
   ]
  },
  {
   "cell_type": "code",
   "execution_count": 4,
   "metadata": {
    "collapsed": false
   },
   "outputs": [
    {
     "data": {
      "text/html": [
       "false"
      ],
      "text/plain": [
       "false"
      ]
     },
     "execution_count": 4,
     "metadata": {},
     "output_type": "execute_result"
    }
   ],
   "source": [
    "5.23 ± 0.14 === 5.23 ± 0.14"
   ]
  },
  {
   "cell_type": "code",
   "execution_count": 5,
   "metadata": {
    "collapsed": false
   },
   "outputs": [
    {
     "data": {
      "text/html": [
       "0.0 ± 0.19798989873223333"
      ],
      "text/plain": [
       "0.0 ± 0.19798989873223333"
      ]
     },
     "execution_count": 5,
     "metadata": {},
     "output_type": "execute_result"
    }
   ],
   "source": [
    "(5.23± 0.14) - (5.23 ± 0.14)"
   ]
  },
  {
   "cell_type": "code",
   "execution_count": 6,
   "metadata": {
    "collapsed": false
   },
   "outputs": [
    {
     "data": {
      "text/html": [
       "1.0 ± 0.0378565771954557"
      ],
      "text/plain": [
       "1.0 ± 0.0378565771954557"
      ]
     },
     "execution_count": 6,
     "metadata": {},
     "output_type": "execute_result"
    }
   ],
   "source": [
    "(5.23 ± 0.14) / (5.23 ± 0.14)"
   ]
  },
  {
   "cell_type": "markdown",
   "metadata": {},
   "source": [
    "The two numbers above, even though have the same nominal value and the same uncertainties, are actually two different measurements that only by chance share the same figures and their difference and their ratio have a non-zero uncertainty.  It is common in physics to get very similar, or even equal, results for a repeated measurement, but the two measurements are not the same thing.  This is also the reason why the uncertainty in the solution of the differential equation was so large without apparent reason.\n",
    "\n",
    "However, if you define a variable:"
   ]
  },
  {
   "cell_type": "code",
   "execution_count": 7,
   "metadata": {
    "collapsed": false
   },
   "outputs": [
    {
     "data": {
      "text/html": [
       "5.23 ± 0.14"
      ],
      "text/plain": [
       "5.23 ± 0.14"
      ]
     },
     "execution_count": 7,
     "metadata": {},
     "output_type": "execute_result"
    }
   ],
   "source": [
    "x = 5.23 ± 0.14"
   ]
  },
  {
   "cell_type": "code",
   "execution_count": 8,
   "metadata": {
    "collapsed": false
   },
   "outputs": [
    {
     "data": {
      "text/html": [
       "true"
      ],
      "text/plain": [
       "true"
      ]
     },
     "execution_count": 8,
     "metadata": {},
     "output_type": "execute_result"
    }
   ],
   "source": [
    "x === x"
   ]
  },
  {
   "cell_type": "code",
   "execution_count": 9,
   "metadata": {
    "collapsed": false
   },
   "outputs": [
    {
     "data": {
      "text/html": [
       "0.0 ± 0.0"
      ],
      "text/plain": [
       "0.0 ± 0.0"
      ]
     },
     "execution_count": 9,
     "metadata": {},
     "output_type": "execute_result"
    }
   ],
   "source": [
    "x - x"
   ]
  },
  {
   "cell_type": "code",
   "execution_count": 10,
   "metadata": {
    "collapsed": false
   },
   "outputs": [
    {
     "data": {
      "text/html": [
       "1.0 ± 0.0"
      ],
      "text/plain": [
       "1.0 ± 0.0"
      ]
     },
     "execution_count": 10,
     "metadata": {},
     "output_type": "execute_result"
    }
   ],
   "source": [
    "x / x"
   ]
  },
  {
   "cell_type": "markdown",
   "metadata": {},
   "source": [
    "we have that `x` is strictly equal to itself and the difference between `x` and itself and its own ratio have zero uncertainty, because there is no doubt about the result of these operations.  It is this feature of `Measurements.jl` that enables it to correctly propagate the uncertainty of numbers accurately taking care of correlation between measurements.  However, you have also to remember it in order not to make mistakes."
   ]
  },
  {
   "cell_type": "markdown",
   "metadata": {},
   "source": [
    "### Complete correct version\n",
    "\n",
    "The only thing we have to do to fix the error is to define a variable equal to the half-life of carbon-14:"
   ]
  },
  {
   "cell_type": "code",
   "execution_count": 14,
   "metadata": {
    "collapsed": false
   },
   "outputs": [
    {
     "name": "stdout",
     "output_type": "stream",
     "text": [
      "Quantity of carbon-14 after 780.1928441909264 years:\n",
      "Numerical: 0.011442440679299993 ± 5.653199063707093e-5\n",
      "Analytic:  0.011441536447307409 ± 5.65314838858269e-5\n"
     ]
    }
   ],
   "source": [
    "using DifferentialEquations, Measurements\n",
    "\n",
    "# Half-life of radiocarbon, in thousands of years\n",
    "c = 5.730 ± 0.040\n",
    "\n",
    "#Setup\n",
    "u₀ = 1 ± 0\n",
    "tspan = (0 ± 0, 1 ± 0)\n",
    "\n",
    "#Define the problem\n",
    "radioactivedecay(t,u) = -c * u\n",
    "\n",
    "#Pass to solver\n",
    "prob = ODEProblem(radioactivedecay, u₀, tspan)\n",
    "sol = solve(prob, Tsit5())\n",
    "\n",
    "println(\"Quantity of carbon-14 after \",  Measurements.value(sol.t[10]) * 1000, \" years:\")\n",
    "println(\"Numerical: \", sol[10])\n",
    "println(\"Analytic:  \", exp(-c * sol.t[10]))"
   ]
  },
  {
   "cell_type": "markdown",
   "metadata": {},
   "source": [
    "Now the uncertainty is more reasonable and indeed it's very close to the analytic solution."
   ]
  },
  {
   "cell_type": "markdown",
   "metadata": {},
   "source": [
    "## Simple pendulum\n",
    "\n",
    "### Small angles approximation\n",
    "\n",
    "The next problem we are going to study is the simple pendulum in the approximation of small angles.  We address this simplified case because there exists an easy analytic solution to compare.\n",
    "\n",
    "The differential equation we want to solve is\n",
    "\n",
    "$$ \\ddot{\\theta} + \\frac{g}{L} \\theta = 0 $$\n",
    "\n",
    "where $g = (9.79 \\pm 0.02)~\\mathrm{m}/\\mathrm{s}^2$ is the gravitational acceleration measured where the experiment is carried out, and $L = (1.00 \\pm 0.01)~\\mathrm{m}$ is the length of the pendulum.\n",
    "\n",
    "When you set up the problem for `DifferentialEquations.jl` remember to define the measurements as variables, as seen above."
   ]
  },
  {
   "cell_type": "code",
   "execution_count": 12,
   "metadata": {
    "collapsed": false
   },
   "outputs": [
    {
     "name": "stdout",
     "output_type": "stream",
     "text": [
      "At time 0.0:\n",
      "Numerical: 0.05235987755982988 ± 0.01\n",
      "Analytic:  0.05235987755982988 ± 0.01\n",
      "\n",
      "At time 0.01874067268761529:\n",
      "Numerical: 0.05226988694319587 ± 0.010016533129059067\n",
      "Analytic:  0.05226988694328826 ± 0.010016533128972755\n",
      "\n",
      "At time 0.07031705589571197:\n",
      "Numerical: 0.051097701052042824 ± 0.01003703743455236\n",
      "Analytic:  0.05109770109446497 ± 0.010037037421001361\n",
      "\n",
      "At time 0.14906367826316927:\n",
      "Numerical: 0.046767352820252184 ± 0.009751532041375943\n",
      "Analytic:  0.046767353505391254 ± 0.009751531967149979\n",
      "\n",
      "At time 0.247808618808041:\n",
      "Numerical: 0.03739351687540871 ± 0.008956746341327032\n",
      "Analytic:  0.03739352078031407 ± 0.008956745836610488\n",
      "\n",
      "At time 0.37407742478501255:\n",
      "Numerical: 0.020406578416927567 ± 0.006907076443448302\n",
      "Analytic:  0.020406600320601386 ± 0.006907075215268615\n",
      "\n",
      "At time 0.5203959060333951:\n",
      "Numerical: -0.0030074930875202337 ± 0.0032168350863306947\n",
      "Analytic:  -0.00300742203920318 ± 0.0032168365645930076\n",
      "\n",
      "At time 0.673839216519664:\n",
      "Numerical: -0.026811345454262146 ± 0.0018764250599249425\n",
      "Analytic:  -0.02681122806895393 ± 0.0018764079120349472\n",
      "\n",
      "At time 0.8503105340329125:\n",
      "Numerical: -0.04641749649302573 ± 0.006617997947062609\n",
      "Analytic:  -0.046417336308665735 ± 0.0066179779567321646\n",
      "\n",
      "At time 1.0502675183684624:\n",
      "Numerical: -0.05181353051345963 ± 0.010631565246949097\n",
      "Analytic:  -0.05181352952101984 ± 0.010631499997966812\n",
      "\n",
      "At time 1.250183498237154:\n",
      "Numerical: -0.03758529270687616 ± 0.010528175653840812\n",
      "Analytic:  -0.03758594365559149 ± 0.010528181542367622\n",
      "\n",
      "At time 1.4722542111066315:\n",
      "Numerical: -0.005530372031453133 ± 0.006823433815267722\n",
      "Analytic:  -0.005532280345413509 ± 0.006823531074845103\n",
      "\n",
      "At time 1.7049970933715746:\n",
      "Numerical: 0.030526969209896282 ± 0.0014449261732890184\n",
      "Analytic:  0.030523937910942617 ± 0.0014443612278312752\n",
      "\n",
      "At time 1.9337517335567982:\n",
      "Numerical: 0.050951099105077995 ± 0.008249507647727876\n",
      "Analytic:  0.05094894928286794 ± 0.008248839531300643\n",
      "\n",
      "At time 2.1882270545039457:\n",
      "Numerical: 0.04426164366746487 ± 0.011808041952783356\n",
      "Analytic:  0.04426307489673723 ± 0.011807500286176931\n",
      "\n",
      "At time 2.426199796973851:\n",
      "Numerical: 0.013588317450571244 ± 0.009699501177712398\n",
      "Analytic:  0.013594798830470605 ± 0.009699682689624506\n",
      "\n",
      "At time 2.6937847060736746:\n",
      "Numerical: -0.02846816912287902 ± 0.0007260019679033048\n",
      "Analytic:  -0.02845731558510663 ± 0.0007277909319737681\n",
      "\n",
      "At time 2.9375530047368237:\n",
      "Numerical: -0.050946653558389884 ± 0.007771800907088081\n",
      "Analytic:  -0.050939258747474424 ± 0.007769274591813352\n",
      "\n",
      "At time 3.2121792477005418:\n",
      "Numerical: -0.04243391408990335 ± 0.013071811330625235\n",
      "Analytic:  -0.04243734990326041 ± 0.013069723987487179\n",
      "\n",
      "At time 3.4645561692783438:\n",
      "Numerical: -0.008084927662921683 ± 0.01116510653371059\n",
      "Analytic:  -0.00810054482057977 ± 0.011165176483507573\n",
      "\n",
      "At time 3.743766379219021:\n",
      "Numerical: 0.03447973846121088 ± 0.0006185846506888967\n",
      "Analytic:  0.03445782809356919 ± 0.000622575440050271\n",
      "\n",
      "At time 4.0012816464242915:\n",
      "Numerical: 0.05231438309847438 ± 0.009487351087676402\n",
      "Analytic:  0.05230262065820135 ± 0.009481388007221005\n",
      "\n",
      "At time 4.281712526687746:\n",
      "Numerical: 0.03529960011844001 ± 0.014377889111718271\n",
      "Analytic:  0.03531054371024164 ± 0.014374072965290067\n",
      "\n",
      "At time 4.547155301109216:\n",
      "Numerical: -0.0047581848827836426 ± 0.01082167213871692\n",
      "Analytic:  -0.004727734881988896 ± 0.010823009455079899\n",
      "\n",
      "At time 4.825392505233607:\n",
      "Numerical: -0.04295477272499642 ± 0.002264218778618087\n",
      "Analytic:  -0.04292253650719275 ± 0.002255616696354688\n",
      "\n",
      "At time 5.096062427788968:\n",
      "Numerical: -0.05090414332555245 ± 0.01252837158636624\n",
      "Analytic:  -0.05089509000775525 ± 0.012518274106073354\n",
      "\n",
      "At time 5.369114485833266:\n",
      "Numerical: -0.024122959094551005 ± 0.01336549860793666\n",
      "Analytic:  -0.0241485234028875 ± 0.013363080787385913\n",
      "\n",
      "At time 5.647648918152014:\n",
      "Numerical: 0.020058745615792965 ± 0.00673165051929077\n",
      "Analytic:  0.02001095347360072 ± 0.0067381053925298535\n",
      "\n",
      "At time 5.908720222211908:\n",
      "Numerical: 0.04900809230001223 ± 0.006415176009878675\n",
      "Analytic:  0.048970615234554156 ± 0.006402899797598995\n",
      "\n",
      "At time 6.192975587847538:\n",
      "Numerical: 0.04523632944055393 ± 0.013621217875411989\n",
      "Analytic:  0.04523906970078703 ± 0.01361134127517298\n",
      "\n",
      "At time 6.3:\n",
      "Numerical: 0.03404150495062491 ± 0.007636666254185888\n",
      "Analytic:  0.034062287013125796 ± 0.007636927706956472\n",
      "\n"
     ]
    }
   ],
   "source": [
    "using DifferentialEquations, Measurements\n",
    "\n",
    "g = 9.79 ± 0.02; # Gravitational constants\n",
    "L = 1.00 ± 0.01; # Length of the pendulum\n",
    "\n",
    "#Initial Conditions\n",
    "u₀ = [0 ± 0, π / 60 ± 0.01] # Initial speed and initial angle\n",
    "tspan = (0 ± 0, 6.3 ± 0)\n",
    "\n",
    "#Define the problem\n",
    "function simplependulum(t, u, du)\n",
    "    θ  = u[1]\n",
    "    dθ = u[2]\n",
    "    du[1] = dθ\n",
    "    du[2] = -(g/L)*θ\n",
    "end\n",
    "\n",
    "#Pass to solvers\n",
    "prob = ODEProblem(simplependulum, u₀, tspan)\n",
    "sol = solve(prob, Tsit5())\n",
    "\n",
    "# Analytic solution\n",
    "u = u₀[2] .* cos.(sqrt(g / L) .* sol.t)\n",
    "\n",
    "# Compare the results\n",
    "for i in eachindex(sol)\n",
    "    println(\"At time \", Measurements.value(sol.t[i]), \":\")\n",
    "    println(\"Numerical: \", sol[i][2])\n",
    "    println(\"Analytic:  \", u[i], \"\\n\")\n",
    "end"
   ]
  },
  {
   "cell_type": "markdown",
   "metadata": {},
   "source": [
    "Great, this time we got the right result at the first take!"
   ]
  },
  {
   "cell_type": "markdown",
   "metadata": {},
   "source": [
    "## Arbitrary amplitude\n",
    "\n",
    "Now that we know how to solve differential equations involving numbers with uncertainties we can solve the simple pendulum problem without any approximation.  This time the differential equation to solve is the following:\n",
    "\n",
    "$$ \\ddot{\\theta} + \\frac{g}{L} \\sin(\\theta) = 0 $$"
   ]
  },
  {
   "cell_type": "code",
   "execution_count": 13,
   "metadata": {
    "collapsed": false
   },
   "outputs": [
    {
     "name": "stdout",
     "output_type": "stream",
     "text": [
      "At time 0.0: \n",
      "1.0471975511965976 ± 0.02\n",
      "\n",
      "At time 0.0009540186378592696: \n",
      "1.0471928857344095 ± 0.020000088933675487\n",
      "\n",
      "At time 0.010494205016451964: \n",
      "1.0466330862031832 ± 0.02001075881181086\n",
      "\n",
      "At time 0.04602000795155588: \n",
      "1.036362258987595 ± 0.020029346729207014\n",
      "\n",
      "At time 0.11023197054203128: \n",
      "0.9855918876612995 ± 0.019680485450011772\n",
      "\n",
      "At time 0.1967352994364424: \n",
      "0.8555913479439925 ± 0.018193636007628352\n",
      "\n",
      "At time 0.3085823344124181: \n",
      "0.5988371548122635 ± 0.014852260345256862\n",
      "\n",
      "At time 0.4460254171260305: \n",
      "0.19139554882837082 ± 0.008436002307096398\n",
      "\n",
      "At time 0.5989010921583777: \n",
      "-0.2973685920626386 ± 0.001556577033282183\n",
      "\n",
      "At time 0.7532414184491362: \n",
      "-0.7258472903668225 ± 0.009143642348421929\n",
      "\n",
      "At time 0.9484916071090639: \n",
      "-1.0271151850828892 ± 0.018261225560948648\n",
      "\n",
      "At time 1.1495658868481962: \n",
      "-0.9507361301315439 ± 0.021113729952978316\n",
      "\n",
      "At time 1.348302170989763: \n",
      "-0.5206848391873202 ± 0.017568199981165895\n",
      "\n",
      "At time 1.583599246375559: \n",
      "0.21436322480331002 ± 0.005364684846828113\n",
      "\n",
      "At time 1.8031067345593004: \n",
      "0.811171061500326 ± 0.010333397275351692\n",
      "\n",
      "At time 2.0507576003934194: \n",
      "1.0430927235377008 ± 0.020768929199207014\n",
      "\n",
      "At time 2.2935090450631717: \n",
      "0.6943356703890193 ± 0.019342438754484617\n",
      "\n",
      "At time 2.5453938940141447: \n",
      "-0.05635564241314238 ± 0.009024077582117401\n",
      "\n",
      "At time 2.803026623209793: \n",
      "-0.7875718645911185 ± 0.009627011863934526\n",
      "\n",
      "At time 3.0618760036893806: \n",
      "-1.0431460288462242 ± 0.020781625002654094\n",
      "\n",
      "At time 3.326641918437064: \n",
      "-0.6392921328767682 ± 0.018571388910794615\n",
      "\n",
      "At time 3.5910277484852076: \n",
      "0.16714639048507726 ± 0.0066907406933164135\n",
      "\n",
      "At time 3.8567269346567215: \n",
      "0.871911142497676 ± 0.012308847572794858\n",
      "\n",
      "At time 4.128994779344151: \n",
      "1.011092786145204 ± 0.021647489197873546\n",
      "\n",
      "At time 4.392036819578315: \n",
      "0.491508287193826 ± 0.015573795622262184\n",
      "\n",
      "At time 4.670145428079243: \n",
      "-0.3790024029228125 ± 0.0020961615089497587\n",
      "\n",
      "At time 4.925549101600783: \n",
      "-0.9617481504040359 ± 0.015877844376648527\n",
      "\n",
      "At time 5.2108593511291605: \n",
      "-0.9267307151364875 ± 0.02088140491900506\n",
      "\n",
      "At time 5.462932254836359: \n",
      "-0.31322725436897025 ± 0.012959611176720015\n",
      "\n",
      "At time 5.7515461005417725: \n",
      "0.5808107419094919 ± 0.005358010726341707\n",
      "\n",
      "At time 6.006551842407753: \n",
      "1.0288786762034532 ± 0.018089934014088604\n",
      "\n",
      "At time 6.295108055287208: \n",
      "0.7926168055314889 ± 0.020007736927938377\n",
      "\n",
      "At time 6.3: \n",
      "0.7821063907888669 ± 0.0730401925480246\n",
      "\n"
     ]
    }
   ],
   "source": [
    "using DifferentialEquations, Measurements\n",
    "\n",
    "g = 9.79 ± 0.02; # Gravitational constants\n",
    "L = 1.00 ± 0.01; # Length of the pendulum\n",
    "\n",
    "#Initial Conditions\n",
    "u₀ = [0 ± 0, π / 3 ± 0.02] # Initial speed and initial angle\n",
    "tspan = (0 ± 0, 6.3 ± 0)\n",
    "\n",
    "#Define the problem\n",
    "function simplependulum(t, u, du)\n",
    "    θ  = u[1]\n",
    "    dθ = u[2]\n",
    "    du[1] = dθ\n",
    "    du[2] = -(g/L) * sin(θ)\n",
    "end\n",
    "\n",
    "#Pass to solvers\n",
    "prob = ODEProblem(simplependulum, u₀, tspan)\n",
    "sol = solve(prob, Tsit5())\n",
    "\n",
    "# Compare the results\n",
    "for i in eachindex(sol)\n",
    "    println(\"At time \", Measurements.value(sol.t[i]), \": \\n\", sol[i][2], \"\\n\")\n",
    "end"
   ]
  }
 ],
 "metadata": {
  "anaconda-cloud": {},
  "kernelspec": {
   "display_name": "Julia 0.6.0",
   "language": "julia",
   "name": "julia-0.6"
  },
  "language_info": {
   "file_extension": ".jl",
   "mimetype": "application/julia",
   "name": "julia",
   "version": "0.6.0"
  }
 },
 "nbformat": 4,
 "nbformat_minor": 1
}
