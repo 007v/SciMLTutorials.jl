{
  "cells": [
    {
      "cell_type": "markdown",
      "source": [
        "# DiffEqBiological Tutorial II: Network Properties API\n### Samuel Isaacson\n\nThe [DiffEqBiological\nAPI](http://docs.juliadiffeq.org/latest/apis/diffeqbio.html) provides a\ncollection of functions for easily accessing network properties, and for\nincrementally building and extending a network. In this tutorial we'll go\nthrough the API. \n\nWe'll work with a made up toggle-switch like network that illustrates a variety\nof different reaction types:"
      ],
      "metadata": {}
    },
    {
      "outputs": [],
      "cell_type": "code",
      "source": [
        "using DiffEqBiological, Latexify\nrn = @reaction_network begin\n    hillr(D₂,α,K,n), ∅ --> m₁\n    hillr(D₁,α,K,n), ∅ --> m₂\n    (δ,γ), m₁ ↔ ∅\n    (δ,γ), m₂ ↔ ∅\n    β, m₁ --> m₁ + P₁\n    β, m₂ --> m₂ + P₂\n    μ, P₁ --> ∅\n    μ, P₂ --> ∅\n    (k₊,k₋), 2P₁ ↔ D₁ \n    (k₊,k₋), 2P₂ ↔ D₂\n    (k₊,k₋), P₁+P₂ ↔ T\nend α K n δ γ β μ k₊ k₋;"
      ],
      "metadata": {},
      "execution_count": null
    },
    {
      "cell_type": "markdown",
      "source": [
        "which corresponds to the chemical reaction network given by"
      ],
      "metadata": {}
    },
    {
      "outputs": [],
      "cell_type": "code",
      "source": [
        "latexify(rn; env=:chemical)"
      ],
      "metadata": {},
      "execution_count": null
    },
    {
      "cell_type": "markdown",
      "source": [
        "## Network Properties\n[Basic\nproperties](http://docs.juliadiffeq.org/latest/apis/diffeqbio.html#Basic-properties-1)\nof the generated network include the `speciesmap` and `paramsmap` functions we examined\nlast time, along with the corresponding `species` and `params` functions:"
      ],
      "metadata": {}
    },
    {
      "outputs": [],
      "cell_type": "code",
      "source": [
        "species(rn)"
      ],
      "metadata": {},
      "execution_count": null
    },
    {
      "outputs": [],
      "cell_type": "code",
      "source": [
        "params(rn)"
      ],
      "metadata": {},
      "execution_count": null
    },
    {
      "cell_type": "markdown",
      "source": [
        "The numbers of species, parameters and reactions can be accessed using\n`numreactions(rn)`, `numspecies(rn)` and `numparams(rn)`.\n\nA number of functions are available to access [properties of\nreactions](http://docs.juliadiffeq.org/latest/apis/diffeqbio.html#Reaction-Properties-1)\nwithin the generated network, including `substrates`, `products`, `dependents`,\n`ismassaction`, `substratestoich`, `productstoich`, and `netstoich`. Each of\nthese functions takes two arguments, the reaction network `rn` and the index of\nthe reaction to query information about. For example, to find the substrate\nsymbols and their corresponding stoichiometries for the 11th reaction, `2P₁ -->\nD₁`, we would use"
      ],
      "metadata": {}
    },
    {
      "outputs": [],
      "cell_type": "code",
      "source": [
        "substrates(rn, 11)"
      ],
      "metadata": {},
      "execution_count": null
    },
    {
      "cell_type": "markdown",
      "source": [
        "Broadcasting works on all these functions, allowing the construction of a vector\nholding the queried information across all reactions, i.e."
      ],
      "metadata": {}
    },
    {
      "outputs": [],
      "cell_type": "code",
      "source": [
        "substrates.(rn, 1:numreactions(rn))"
      ],
      "metadata": {},
      "execution_count": null
    },
    {
      "cell_type": "markdown",
      "source": [
        "To see the net stoichiometries for all reactions we would use"
      ],
      "metadata": {}
    },
    {
      "outputs": [],
      "cell_type": "code",
      "source": [
        "netstoich.(rn, 1:numreactions(rn))"
      ],
      "metadata": {},
      "execution_count": null
    },
    {
      "cell_type": "markdown",
      "source": [
        "Here the first integer in each pair corresponds to the index of the species\n(with symbol `species(rn)[index]`). The second integer corresponds to the net\nstoichiometric coefficient of the species within the reaction. `substratestoich`\nand `productstoich` are defined similarly. \n\nSeveral functions are also provided that calculate different types of\n[dependency\ngraphs](http://docs.juliadiffeq.org/latest/apis/diffeqbio.html#Dependency-Graphs-1).\nThese include `rxtospecies_depgraph`, which provides a mapping from reaction\nindex to the indices of species whose population changes when the reaction\noccurs:"
      ],
      "metadata": {}
    },
    {
      "outputs": [],
      "cell_type": "code",
      "source": [
        "rxtospecies_depgraph(rn)"
      ],
      "metadata": {},
      "execution_count": null
    },
    {
      "cell_type": "markdown",
      "source": [
        "Here the last row indicates that the species with indices `[3,4,7]` will change\nvalues when the reaction `T --> P₁ + P₂` occurs. To confirm these are the\ncorrect species we can look at"
      ],
      "metadata": {}
    },
    {
      "outputs": [],
      "cell_type": "code",
      "source": [
        "species(rn)[[3,4,7]]"
      ],
      "metadata": {},
      "execution_count": null
    },
    {
      "cell_type": "markdown",
      "source": [
        "The `speciestorx_depgraph` similarly provides a mapping from species to reactions \nfor which their *rate laws* depend on that species. These correspond to all reactions\nfor which the given species is in the `dependent` set of the reaction. We can verify this\nfor the first species, `m₁`:"
      ],
      "metadata": {}
    },
    {
      "outputs": [],
      "cell_type": "code",
      "source": [
        "speciestorx_depgraph(rn)[1]"
      ],
      "metadata": {},
      "execution_count": null
    },
    {
      "outputs": [],
      "cell_type": "code",
      "source": [
        "findall(depset -> in(:m₁, depset), dependents.(rn, 1:numreactions(rn)))"
      ],
      "metadata": {},
      "execution_count": null
    },
    {
      "cell_type": "markdown",
      "source": [
        "Finally, `rxtorx_depgraph` provides a mapping that shows when a given reaction\noccurs, which other reactions have rate laws that involve species whose value\nwould have changed:"
      ],
      "metadata": {}
    },
    {
      "outputs": [],
      "cell_type": "code",
      "source": [
        "rxtorx_depgraph(rn)"
      ],
      "metadata": {},
      "execution_count": null
    },
    {
      "cell_type": "markdown",
      "source": [
        "## Incremental Construction of Networks\n\n## Extending Incrementally Generated Networks to Include ODES/SDEs or Jumps"
      ],
      "metadata": {}
    }
  ],
  "nbformat_minor": 2,
  "metadata": {
    "language_info": {
      "file_extension": ".jl",
      "mimetype": "application/julia",
      "name": "julia",
      "version": "1.1.0"
    },
    "kernelspec": {
      "name": "julia-1.1",
      "display_name": "Julia 1.1.0",
      "language": "julia"
    }
  },
  "nbformat": 4
}
