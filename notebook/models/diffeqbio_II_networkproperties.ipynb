{
  "cells": [
    {
      "cell_type": "markdown",
      "source": [
        "# DiffEqBiological Tutorial II: Network Properties API\n### Samuel Isaacson\n\nThe [DiffEqBiological\nAPI](http://docs.juliadiffeq.org/latest/apis/diffeqbio.html) provides a\ncollection of functions for easily accessing network properties, and for\nincrementally building and extending a network. In this tutorial we'll go\nthrough the API. \n\nLet's illustrate on a toggle-switch like network that contains a variety of\ndifferent reaction types:"
      ],
      "metadata": {}
    },
    {
      "outputs": [],
      "cell_type": "code",
      "source": [
        "using DiffEqBiological, Latexify\nrn = @reaction_network begin\n    hillr(D₂,α,K,n), ∅ --> m₁\n    hillr(D₁,α,K,n), ∅ --> m₂\n    (δ,γ), m₁ ↔ ∅\n    (δ,γ), m₂ ↔ ∅\n    β, m₁ --> m₁ + P₁\n    β, m₂ --> m₂ + P₂\n    μ, P₁ --> ∅\n    μ, P₂ --> ∅\n    (k₊,k₋), 2P₁ ↔ D₁ \n    (k₊,k₋), 2P₂ ↔ D₂\n    (k₊,k₋), P₁+P₂ ↔ T\nend α K n δ γ β μ k₊ k₋;"
      ],
      "metadata": {},
      "execution_count": null
    },
    {
      "cell_type": "markdown",
      "source": [
        "This corresponds to the chemical reaction network given by"
      ],
      "metadata": {}
    },
    {
      "outputs": [],
      "cell_type": "code",
      "source": [
        "latexify(rn; env=:chemical)"
      ],
      "metadata": {},
      "execution_count": null
    },
    {
      "cell_type": "markdown",
      "source": [
        "---\n## Network Properties\n[Basic\nproperties](http://docs.juliadiffeq.org/latest/apis/diffeqbio.html#Basic-properties-1)\nof the generated network include the `speciesmap` and `paramsmap` functions we\nexamined in the last tutorial, along with the corresponding `species` and\n`params` functions:"
      ],
      "metadata": {}
    },
    {
      "outputs": [],
      "cell_type": "code",
      "source": [
        "species(rn)"
      ],
      "metadata": {},
      "execution_count": null
    },
    {
      "outputs": [],
      "cell_type": "code",
      "source": [
        "params(rn)"
      ],
      "metadata": {},
      "execution_count": null
    },
    {
      "cell_type": "markdown",
      "source": [
        "The numbers of species, parameters and reactions can be accessed using\n`numspecies(rn)`, `numparams(rn)` and `numreactions(rn)`.\n\nA number of functions are available to access [properties of\nreactions](http://docs.juliadiffeq.org/latest/apis/diffeqbio.html#Reaction-Properties-1)\nwithin the generated network, including `substrates`, `products`, `dependents`,\n`ismassaction`, `substratestoich`, `productstoich`, and `netstoich`. Each of\nthese functions takes two arguments, the reaction network `rn` and the index of\nthe reaction to query information about. For example, to find the substrate\nsymbols and their corresponding stoichiometries for the 11th reaction, `2P₁ -->\nD₁`, we would use"
      ],
      "metadata": {}
    },
    {
      "outputs": [],
      "cell_type": "code",
      "source": [
        "substrates(rn, 11)"
      ],
      "metadata": {},
      "execution_count": null
    },
    {
      "cell_type": "markdown",
      "source": [
        "Broadcasting works on all these functions, allowing the construction of a vector\nholding the queried information across all reactions, i.e."
      ],
      "metadata": {}
    },
    {
      "outputs": [],
      "cell_type": "code",
      "source": [
        "substrates.(rn, 1:numreactions(rn))"
      ],
      "metadata": {},
      "execution_count": null
    },
    {
      "cell_type": "markdown",
      "source": [
        "To see the net stoichiometries for all reactions we would use"
      ],
      "metadata": {}
    },
    {
      "outputs": [],
      "cell_type": "code",
      "source": [
        "netstoich.(rn, 1:numreactions(rn))"
      ],
      "metadata": {},
      "execution_count": null
    },
    {
      "cell_type": "markdown",
      "source": [
        "Here the first integer in each pair corresponds to the index of the species\n(with symbol `species(rn)[index]`). The second integer corresponds to the net\nstoichiometric coefficient of the species within the reaction. `substratestoich`\nand `productstoich` are defined similarly. \n\nSeveral functions are also provided that calculate different types of\n[dependency\ngraphs](http://docs.juliadiffeq.org/latest/apis/diffeqbio.html#Dependency-Graphs-1).\nThese include `rxtospecies_depgraph`, which provides a mapping from reaction\nindex to the indices of species whose population changes when the reaction\noccurs:"
      ],
      "metadata": {}
    },
    {
      "outputs": [],
      "cell_type": "code",
      "source": [
        "rxtospecies_depgraph(rn)"
      ],
      "metadata": {},
      "execution_count": null
    },
    {
      "cell_type": "markdown",
      "source": [
        "Here the last row indicates that the species with indices `[3,4,7]` will change\nvalues when the reaction `T --> P₁ + P₂` occurs. To confirm these are the\ncorrect species we can look at"
      ],
      "metadata": {}
    },
    {
      "outputs": [],
      "cell_type": "code",
      "source": [
        "species(rn)[[3,4,7]]"
      ],
      "metadata": {},
      "execution_count": null
    },
    {
      "cell_type": "markdown",
      "source": [
        "The `speciestorx_depgraph` similarly provides a mapping from species to reactions \nfor which their *rate laws* depend on that species. These correspond to all reactions\nfor which the given species is in the `dependent` set of the reaction. We can verify this\nfor the first species, `m₁`:"
      ],
      "metadata": {}
    },
    {
      "outputs": [],
      "cell_type": "code",
      "source": [
        "speciestorx_depgraph(rn)[1]"
      ],
      "metadata": {},
      "execution_count": null
    },
    {
      "outputs": [],
      "cell_type": "code",
      "source": [
        "findall(depset -> in(:m₁, depset), dependents.(rn, 1:numreactions(rn)))"
      ],
      "metadata": {},
      "execution_count": null
    },
    {
      "cell_type": "markdown",
      "source": [
        "Finally, `rxtorx_depgraph` provides a mapping that shows when a given reaction\noccurs, which other reactions have rate laws that involve species whose value\nwould have changed:"
      ],
      "metadata": {}
    },
    {
      "outputs": [],
      "cell_type": "code",
      "source": [
        "rxtorx_depgraph(rn)"
      ],
      "metadata": {},
      "execution_count": null
    },
    {
      "cell_type": "markdown",
      "source": [
        "#### Note on Using Network Property API Functions\nThe basic network query and reaction property functions are simply accessors,\nreturning information that is already stored within the generated\n`reaction_network`. In particular, modifying the returned data structures may\nlead to inconsistent internal state within the network. As such, they should be\nused for accessing, but not modifying, network properties. In contrast, the\ndependency graph functions *generate* a new dependency graph each time they are\ncalled, assuming the user will take ownership of the returned graph.\n\n---\n## Incremental Construction of Networks\nThe `@reaction_network` macro is monolithic, in that it not only constructs and\nstores basic network properties such as the reaction stoichiometries, but also\ngenerates **everything** needed to immediately solve ODEs, SDE and jump models\nusing the network. This includes Jacobian functions, noise functions, and jump\nfunctions for each reaction. While this allows for a compact interface to the\nDifferentialEquations.jl solvers, it can also be computationally expensive for\nlarge networks, where a user may only wish to solve one type of problem and/or\nhave fine-grained control over what is generated. In addition, some types of\nreaction network structures are more amenable to being constructed\nprogrammatically, as opposed to writing out all reactions by hand within one\nmacro. For these reasons DiffEqBiological provides two additional macros that\nonly *initially* setup basic reaction network properties, and which can be\nextended through a programmatic interface: `@min_reaction_network` and\n`@empty_reaction_network`. We now give an introduction to constructing these\nmore minimal network representations, and how they can be programmatically\nextended. See also the relevant [API\nsection](http://docs.juliadiffeq.org/latest/apis/diffeqbio.html#Reaction-Network-Generation-Macros-1).\n\nThe `@min_reaction_network` macro works identically to the `@reaction_network`\nmacro, but the generated network will only be complete with respect to its\nrepresentation of chemical network properties (i.e. species, parameters and\nreactions). No ODE, SDE or jump models are generated during the macro call. It\ncan subsequently be extended with the addition of new species, parameters or\nreactions. The `@empty_reaction_network` allocates an empty network structure\nthat can also be extended using the programmatic interface. For example, consider\na partial version of the toggle-switch like network we defined above:"
      ],
      "metadata": {}
    },
    {
      "outputs": [],
      "cell_type": "code",
      "source": [
        "rnmin = @min_reaction_network begin\n    (δ,γ), m₁ ↔ ∅\n    (δ,γ), m₂ ↔ ∅\n    β, m₁ --> m₁ + P₁\n    β, m₂ --> m₂ + P₂\n    μ, P₁ --> ∅\n    μ, P₂ --> ∅\nend δ γ β μ;"
      ],
      "metadata": {},
      "execution_count": null
    },
    {
      "cell_type": "markdown",
      "source": [
        "Here we have left out the first two, and last three, reactions from the original\n`reaction_network`. To expand the network until it is functionally equivalent to\nthe original model we add back in the missing species, parameters, and *finally*\nthe missing reactions. Note, it is required that species and parameters be\ndefined before any reactions using them are added. The necessary network\nextension functions are given by `addspecies!`, `addparam!` and `addreaction!`,\nand described in the\n[API](http://docs.juliadiffeq.org/latest/apis/diffeqbio.html#Functions-to-Add-Species,-Parameters-and-Reactions-to-a-Network-1). To complete `rnmin` we first add the relevant\nspecies:"
      ],
      "metadata": {}
    },
    {
      "outputs": [],
      "cell_type": "code",
      "source": [
        "addspecies!(rnmin, :D₁)\naddspecies!(rnmin, :D₂)\naddspecies!(rnmin, :T)"
      ],
      "metadata": {},
      "execution_count": null
    },
    {
      "cell_type": "markdown",
      "source": [
        "Next we add the needed parameters"
      ],
      "metadata": {}
    },
    {
      "outputs": [],
      "cell_type": "code",
      "source": [
        "addparam!(rnmin, :α)\naddparam!(rnmin, :K)\naddparam!(rnmin, :n)\naddparam!(rnmin, :k₊)\naddparam!(rnmin, :k₋)"
      ],
      "metadata": {},
      "execution_count": null
    },
    {
      "cell_type": "markdown",
      "source": [
        "Note, both `addspecies!` and `addparam!` also accept strings encoding the variable names (which are then converted to `Symbol`s internally).\n\nWe are now ready to add the missing reactions. The API provides two forms of the\n`addreaction!` function, one takes expressions analogous to what one would write in\nthe macro:"
      ],
      "metadata": {}
    },
    {
      "outputs": [],
      "cell_type": "code",
      "source": [
        "addreaction!(rnmin, :(hillr(D₁,α,K,n)), :(∅ --> m₂))\naddreaction!(rnmin, :((k₊,k₋)), :(2P₂ ↔ D₂))\naddreaction!(rnmin, :k₊, :(2P₁ --> D₁))\naddreaction!(rnmin, :k₋, :(D₁ --> 2P₁))"
      ],
      "metadata": {},
      "execution_count": null
    },
    {
      "cell_type": "markdown",
      "source": [
        "Note, the rate can be an expression or symbol as above, but could also just be a\nhardcoded numeric value. The second form of `addreaction!` takes tuples of\n`Pair{Symbol,Int}` that encode the stoichiometric coefficients of substrates and\nreactants:"
      ],
      "metadata": {}
    },
    {
      "outputs": [],
      "cell_type": "code",
      "source": [
        "addreaction!(rnmin, :(hillr(D₂,α,K,n)), (), (:m₁ => 1,))\naddreaction!(rnmin, :k₊, (:P₁=>1, :P₂=>1), (:T=>1,))\naddreaction!(rnmin, :k₋, (:T=>1,), (:P₁=>1, :P₂=>1))"
      ],
      "metadata": {},
      "execution_count": null
    },
    {
      "cell_type": "markdown",
      "source": [
        "Let's check that our `rn` and `rnmin` have the same set of species:"
      ],
      "metadata": {}
    },
    {
      "outputs": [],
      "cell_type": "code",
      "source": [
        "setdiff(species(rn), species(rnmin))"
      ],
      "metadata": {},
      "execution_count": null
    },
    {
      "cell_type": "markdown",
      "source": [
        "the same set of params:"
      ],
      "metadata": {}
    },
    {
      "outputs": [],
      "cell_type": "code",
      "source": [
        "setdiff(params(rn), params(rnmin))"
      ],
      "metadata": {},
      "execution_count": null
    },
    {
      "cell_type": "markdown",
      "source": [
        "and the final reaction has the same substrates, reactions, and rate expression:"
      ],
      "metadata": {}
    },
    {
      "outputs": [],
      "cell_type": "code",
      "source": [
        "rxidx = numreactions(rn)\nsetdiff(substrates(rn, rxidx), substrates(rnmin, rxidx))"
      ],
      "metadata": {},
      "execution_count": null
    },
    {
      "outputs": [],
      "cell_type": "code",
      "source": [
        "setdiff(products(rn, rxidx), products(rnmin, rxidx))"
      ],
      "metadata": {},
      "execution_count": null
    },
    {
      "outputs": [],
      "cell_type": "code",
      "source": [
        "rateexpr(rn, rxidx) == rateexpr(rnmin, rxidx)"
      ],
      "metadata": {},
      "execution_count": null
    },
    {
      "cell_type": "markdown",
      "source": [
        "---\n## Extending Incrementally Generated Networks to Include ODES, SDEs or Jumps\nOnce a network generated from `@min_reaction_network` or\n`@empty_reaction_network` has had all the associated species, parameters and\nreactions filled in, corresponding ODE, SDE or jump models can be constructed.\nThe relevant API functions are `addodes!`, `addsdes!` and `addjumps!`. One\nbenefit to adding these models through the associated functions is that\nDiffEqBiological is able to offer more fine-grained control on what actually\ngets constructed. For example, `addodes!` has the optional keyword argument,\n`build_jac`, which if set to `false` will disable construction of symbolic\nJacobians and functions for evaluating Jacobians. For large networks this can\ngive a significant speed-up in the time required for constructing an ODE model.\nEach function and its associated keyword arguments are described in the API\nsection, [Functions to add ODEs, SDEs or Jumps to a\nNetwork](http://docs.juliadiffeq.org/latest/apis/diffeqbio.html#Functions-to-Add-ODEs,-SDEs-or-Jumps-to-a-Network-1).\n\nLet's extend `rnmin` to include the needed functions for use in ODE\nsolvers:"
      ],
      "metadata": {}
    },
    {
      "outputs": [],
      "cell_type": "code",
      "source": [
        "addodes!(rnmin)"
      ],
      "metadata": {},
      "execution_count": null
    },
    {
      "cell_type": "markdown",
      "source": [
        "The [Generated Functions for\nModels](http://docs.juliadiffeq.org/latest/apis/diffeqbio.html#Generated-Functions-for-Models-1)\nsection of the API shows what functions have been generated. For ODEs these\ninclude `oderhsfun(rnmin)`, which returns a function of the form `f(du,u,p,t)`\nwhich evaluates the ODEs (i.e. the time derivatives of `u`) within `du`. For\neach generated function, the corresponding expressions from which it was\ngenerated can be retrieved using accessors from the [Generated\nExpressions](http://docs.juliadiffeq.org/latest/apis/diffeqbio.html#Generated-Expressions-1)\nsection of the API. The equations within `du` can be retrieved using the\n`odeexprs(rnmin)` function. For example:"
      ],
      "metadata": {}
    },
    {
      "outputs": [],
      "cell_type": "code",
      "source": [
        "odeexprs(rnmin)"
      ],
      "metadata": {},
      "execution_count": null
    },
    {
      "cell_type": "markdown",
      "source": [
        "Using Latexify we can see the ODEs themselves to compare with these expressions:"
      ],
      "metadata": {}
    },
    {
      "outputs": [],
      "cell_type": "code",
      "source": [
        "latexify(rnmin)"
      ],
      "metadata": {},
      "execution_count": null
    },
    {
      "cell_type": "markdown",
      "source": [
        "For ODEs two other functions are generated by `addodes!`. `jacfun(rnmin)` will\nreturn the generated Jacobian evaluation function, `fjac(dJ,u,p,t)`, which given\nthe current solution `u` evaluates the Jacobian within `dJ`.\n`jacobianexprs(rnmin)` gives the corresponding matrix of expressions, which can\nbe used with Latexify to see the Jacobian:"
      ],
      "metadata": {}
    },
    {
      "outputs": [],
      "cell_type": "code",
      "source": [
        "latexify(jacobianexprs(rnmin))"
      ],
      "metadata": {},
      "execution_count": null
    },
    {
      "cell_type": "markdown",
      "source": [
        "`addodes!` also generated a function that evaluates the Jacobian of the ODE\nderivative functions with respect to the parameters. `paramjacfun(rnmin)` then\nreturns the generated function, which has the form `fpjac(dPJ,u,p,t)`, which\ngiven the current solution `u` evaluates the Jacobian matrix with respect to\nparameters in `p` within `dPJ`. For use in DifferentialEquations.jl solvers, an\n[`ODEFunction`](http://docs.juliadiffeq.org/latest/features/performance_overloads.html)\nrepresentation of the ODEs is available from `odefun(rnmin)`. `addsdes` and\n`addjumps` work similarly to complete the network for use in StochasticDiffEq\nand DiffEqJump solvers.  \n\n#### Note on Using Generated Function and Expression API Functions\nThe generated functions and expressions accessible through the API require first\ncalling the appropriate `addodes!`, `addsdes` or `addjumps` function. These are\nresponsible for actually constructing the underlying functions and expressions.\nThe API accessors simply return already constructed functions and expressions\nthat are stored within the `reaction_network` structure.\n\n---\n## Example of Generating a Network Programmatically\nFor a user directly typing in a reaction network, it is generally easier to use\nthe `@min_reaction_network` or `@reaction_network` macros to fully specify\nreactions. However, for large networks where there is a lot of structure between\nreactions it can be much easier to generate the network programmatically. For\nvery large networks, more than tens of thousands of reactions, the second form\nof `addreaction!` should be preferred as it offers substantially better\nperformance. To put together everything we've seen, let's generate the network\ncorresponding to a 1D continuous time random walk, approximating the diffusion\nof molecules. \n\nThe basic \"reaction\" network we wish to study is \n\n```math\nu_1 \\leftrightarrows u_2 \\leftrightarrows u_3 \\cdots \\leftrightarrows u_{N}\n```\n\nfor $N$ lattice sites on $[0,1]$. For $h = 1/N$ the lattice spacing, we'll\nassume the rate molecules hop from their current site to any particular neighbor\nis just $h^{-2}$. We can interpret this hopping process as a collection of\n$2N-2$ \"reactions\", with the form $u_i \\to u_j$ for $j=i+1$ or $j=i-1$. We construct\nthe corresponding reaction network as follows. First we set values for the basic\nparameters:"
      ],
      "metadata": {}
    },
    {
      "outputs": [],
      "cell_type": "code",
      "source": [
        "N = 256\nh = 1 / N"
      ],
      "metadata": {},
      "execution_count": null
    },
    {
      "cell_type": "markdown",
      "source": [
        "then we create an empty network, and add each species"
      ],
      "metadata": {}
    },
    {
      "outputs": [],
      "cell_type": "code",
      "source": [
        "rn = @empty_reaction_network\n\nfor i = 1:N\n    addspecies!(rn, Symbol(:u, i))\nend"
      ],
      "metadata": {},
      "execution_count": null
    },
    {
      "cell_type": "markdown",
      "source": [
        "---\n## Importing Predefined Networks \n\n\n---\n## Getting Help\nHave a question related to DiffEqBiological or this tutorial? Feel free to ask\nin the DifferentialEquations.jl [Gitter](https://gitter.im/JuliaDiffEq/Lobby).\nIf you think you've found a bug in DiffEqBiological, or would like to\nrequest/discuss new functionality, feel free to open an issue on\n[Github](https://github.com/JuliaDiffEq/DiffEqBiological.jl) (but please check\nthere is no related issue already open). If you've found a bug in this tutorial,\nor have a suggestion, feel free to open an issue on the [DiffEqTutorials Github\nsite](https://github.com/JuliaDiffEq/DiffEqTutorials.jl). Or, submit a pull\nrequest to DiffEqTutorials updating the tutorial!\n\n---"
      ],
      "metadata": {}
    }
  ],
  "nbformat_minor": 2,
  "metadata": {
    "language_info": {
      "file_extension": ".jl",
      "mimetype": "application/julia",
      "name": "julia",
      "version": "1.1.0"
    },
    "kernelspec": {
      "name": "julia-1.1",
      "display_name": "Julia 1.1.0",
      "language": "julia"
    }
  },
  "nbformat": 4
}
