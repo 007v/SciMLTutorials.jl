{
 "cells": [
  {
   "cell_type": "markdown",
   "metadata": {},
   "source": [
    "# Unit Checked Arithmetic via SIUnits\n",
    "\n",
    "Units and dimensional analysis are standard tools across the sciences for checking the correctness of your equation. However, most ODE solvers only allow for the equation to be in dimensionless form, leaving it up to the user to both convert the equation to a dimensionless form, punch in the equations, and hopefully not make an error along the way.\n",
    "\n",
    "DifferentialEquations.jl allows for one to use Unitful.jl to have unit-checked arithmetic natively in the solvers. Given the dispatch implementation of the Unitful, this has little overhead.\n",
    "\n",
    "## Using Unitful\n",
    "\n",
    "To use SIUnits, you need to have the package installed. Then you can add units to your variables. For example:"
   ]
  },
  {
   "cell_type": "code",
   "execution_count": 1,
   "metadata": {
    "collapsed": false
   },
   "outputs": [
    {
     "data": {
      "text/plain": [
       "1.0 s"
      ]
     },
     "execution_count": 1,
     "metadata": {},
     "output_type": "execute_result"
    }
   ],
   "source": [
    "using Unitful\n",
    "t = 1.0u\"s\""
   ]
  },
  {
   "cell_type": "markdown",
   "metadata": {},
   "source": [
    "Notice that `t` is a variable with units in seconds. If we make another value with seconds, they can add"
   ]
  },
  {
   "cell_type": "code",
   "execution_count": 2,
   "metadata": {
    "collapsed": false
   },
   "outputs": [
    {
     "data": {
      "text/plain": [
       "2.02 s"
      ]
     },
     "execution_count": 2,
     "metadata": {},
     "output_type": "execute_result"
    }
   ],
   "source": [
    "t2 = 1.02u\"s\"\n",
    "t+t2"
   ]
  },
  {
   "cell_type": "markdown",
   "metadata": {},
   "source": [
    "and they can multiply:"
   ]
  },
  {
   "cell_type": "code",
   "execution_count": 3,
   "metadata": {
    "collapsed": false
   },
   "outputs": [
    {
     "data": {
      "text/plain": [
       "1.02 s^2"
      ]
     },
     "execution_count": 3,
     "metadata": {},
     "output_type": "execute_result"
    }
   ],
   "source": [
    "t*t2"
   ]
  },
  {
   "cell_type": "markdown",
   "metadata": {},
   "source": [
    "You can even do rational roots:"
   ]
  },
  {
   "cell_type": "code",
   "execution_count": 4,
   "metadata": {
    "collapsed": false
   },
   "outputs": [
    {
     "data": {
      "text/plain": [
       "1.0 s^1/2"
      ]
     },
     "execution_count": 4,
     "metadata": {},
     "output_type": "execute_result"
    }
   ],
   "source": [
    "sqrt(t)"
   ]
  },
  {
   "cell_type": "markdown",
   "metadata": {},
   "source": [
    "Many operations work."
   ]
  },
  {
   "cell_type": "markdown",
   "metadata": {},
   "source": [
    "These operations will check to make sure units are correct, and will throw an error for incorrect operations:"
   ]
  },
  {
   "cell_type": "code",
   "execution_count": 5,
   "metadata": {
    "collapsed": false
   },
   "outputs": [
    {
     "ename": "LoadError",
     "evalue": "Unitful.DimensionError()",
     "output_type": "error",
     "traceback": [
      "Unitful.DimensionError()",
      "",
      " in +(::Unitful.Quantity{Float64,Unitful.Dimensions{(Unitful.Dimension{:Time}(1//1),)},Unitful.Units{(Unitful.Unit{:Second}(0,1//1),),Unitful.Dimensions{(Unitful.Dimension{:Time}(1//1),)}}}, ::Unitful.Quantity{Float64,Unitful.Dimensions{(Unitful.Dimension{:Time}(1//2),)},Unitful.Units{(Unitful.Unit{:Second}(0,1//2),),Unitful.Dimensions{(Unitful.Dimension{:Time}(1//2),)}}}) at /home/crackauc/.julia/v0.5/Unitful/src/Unitful.jl:311",
      " in execute_request(::ZMQ.Socket, ::IJulia.Msg) at /home/crackauc/.julia/v0.5/IJulia/src/execute_request.jl:175",
      " in eventloop(::ZMQ.Socket) at /home/crackauc/.julia/v0.5/IJulia/src/eventloop.jl:8",
      " in (::IJulia.##9#15)() at ./task.jl:360"
     ]
    }
   ],
   "source": [
    "t + sqrt(t)"
   ]
  },
  {
   "cell_type": "markdown",
   "metadata": {},
   "source": [
    "## Using Unitful with DifferentialEquations.jl\n",
    "\n",
    "Just like with other number systems, you can choose the units for your numbers by simply specifying the units of the initial condition and the timestep. For example, to solve the linear ODE where the variable has units of Newton's and `t` is in Seconds, we would use:"
   ]
  },
  {
   "cell_type": "code",
   "execution_count": 2,
   "metadata": {
    "collapsed": false
   },
   "outputs": [
    {
     "ename": "LoadError",
     "evalue": "Unitful.DimensionError()",
     "output_type": "error",
     "traceback": [
      "Unitful.DimensionError()",
      "",
      " in ode_determine_initdt(::Unitful.Quantity{Float64,Unitful.Dimensions{(Unitful.Dimension{:Length}(1//1),Unitful.Dimension{:Mass}(1//1),Unitful.Dimension{:Time}(-2//1))},Unitful.Units{(Unitful.Unit{:Newton}(0,1//1),),Unitful.Dimensions{(Unitful.Dimension{:Length}(1//1),Unitful.Dimension{:Mass}(1//1),Unitful.Dimension{:Time}(-2//1))}}}, ::Unitful.Quantity{Float64,Unitful.Dimensions{(Unitful.Dimension{:Time}(1//1),)},Unitful.Units{(Unitful.Unit{:Second}(0,1//1),),Unitful.Dimensions{(Unitful.Dimension{:Time}(1//1),)}}}, ::Unitful.Quantity{Float64,Unitful.Dimensions{(Unitful.Dimension{:Length}(1//1),Unitful.Dimension{:Mass}(1//1),Unitful.Dimension{:Time}(-2//1))},Unitful.Units{(Unitful.Unit{:Newton}(0,1//1),),Unitful.Dimensions{(Unitful.Dimension{:Length}(1//1),Unitful.Dimension{:Mass}(1//1),Unitful.Dimension{:Time}(-2//1))}}}, ::Float64, ::Function, ::##1#2, ::Int64) at /home/crackauc/.julia/v0.5/OrdinaryDiffEq/src/solve.jl:236",
      " in #solve#47(::Float64, ::Bool, ::Int64, ::DiffEqBase.ExplicitRKTableau, ::Bool, ::Void, ::Symbol, ::Bool, ::Bool, ::Array{Quantity{Float64, Dimensions:{𝐓}, Units:{s}},1}, ::Array{Quantity{Float64, Dimensions:{𝐓}, Units:{s}},1}, ::Bool, ::Float64, ::Rational{Int64}, ::Rational{Int64}, ::Void, ::Void, ::Rational{Int64}, ::Bool, ::Void, ::Void, ::Int64, ::Unitful.Quantity{Float64,Unitful.Dimensions{(Unitful.Dimension{:Time}(1//1),)},Unitful.Units{(Unitful.Unit{:Second}(0,1//1),),Unitful.Dimensions{(Unitful.Dimension{:Time}(1//1),)}}}, ::Unitful.Quantity{Float64,Unitful.Dimensions{(Unitful.Dimension{:Time}(1//1),)},Unitful.Units{(Unitful.Unit{:Second}(0,1//1),),Unitful.Dimensions{(Unitful.Dimension{:Time}(1//1),)}}}, ::Bool, ::OrdinaryDiffEq.#ODE_DEFAULT_NORM, ::Bool, ::Int64, ::String, ::Void, ::Array{Any,1}, ::DiffEqBase.#solve, ::DiffEqBase.ODEProblem{Quantity{Float64, Dimensions:{𝐋 𝐌 𝐓^-2}, Units:{N}},Quantity{Float64, Dimensions:{𝐓}, Units:{s}},Val{false},##1#2}, ::Type{DiffEqBase.Midpoint}, ::Array{Any,1}, ::Array{Any,1}, ::Array{Any,1}) at /home/crackauc/.julia/v0.5/OrdinaryDiffEq/src/solve.jl:84",
      " in solve(::DiffEqBase.ODEProblem{Quantity{Float64, Dimensions:{𝐋 𝐌 𝐓^-2}, Units:{N}},Quantity{Float64, Dimensions:{𝐓}, Units:{s}},Val{false},##1#2}, ::Type{DiffEqBase.Midpoint}, ::Array{Any,1}, ::Array{Any,1}, ::Array{Any,1}) at /home/crackauc/.julia/v0.5/OrdinaryDiffEq/src/solve.jl:18 (repeats 2 times)",
      " in execute_request(::ZMQ.Socket, ::IJulia.Msg) at /home/crackauc/.julia/v0.5/IJulia/src/execute_request.jl:175",
      " in eventloop(::ZMQ.Socket) at /home/crackauc/.julia/v0.5/IJulia/src/eventloop.jl:8",
      " in (::IJulia.##9#15)() at ./task.jl:360"
     ]
    }
   ],
   "source": [
    "using DifferentialEquations\n",
    "f = (t,y) -> 0.5*y\n",
    "u0 = 1.5u\"N\"\n",
    "prob = ODEProblem(f,u0,(0.0u\"s\",1.0u\"s\"))\n",
    "sol = solve(prob,Midpoint)"
   ]
  },
  {
   "cell_type": "markdown",
   "metadata": {},
   "source": [
    "Notice that we recieved a unit mismatch error. This is correctly so! Remember that for an ODE:\n",
    "\n",
    "$$ \\frac{dy}{dt} = f(t,y) $$\n",
    "\n",
    "we must have that `f` is a rate, i.e. `f` is a change in `y` per unit time. So we need to fix the units of `f` in our example to be `N/s`. Notice that we then do not receive an error if we do the following:"
   ]
  },
  {
   "cell_type": "code",
   "execution_count": 3,
   "metadata": {
    "collapsed": false
   },
   "outputs": [
    {
     "data": {
      "text/plain": [
       "DiffEqBase.ODESolution{Array{Quantity{Float64, Dimensions:{𝐋 𝐌 𝐓^-2}, Units:{N}},1},Array{Quantity{Float64, Dimensions:{𝐓}, Units:{s}},1},Array{Quantity{Float64, Dimensions:{𝐋 𝐌 𝐓^-3}, Units:{N s^-1}},1},DiffEqBase.ODEProblem{Quantity{Float64, Dimensions:{𝐋 𝐌 𝐓^-2}, Units:{N}},Quantity{Float64, Dimensions:{𝐓}, Units:{s}},Val{false},##3#4},DiffEqBase.Midpoint}"
      ]
     },
     "execution_count": 3,
     "metadata": {},
     "output_type": "execute_result"
    }
   ],
   "source": [
    "f = (t,y) -> 0.5*y/3.0u\"s\"\n",
    "prob = ODEProblem(f,u0,(0.0u\"s\",1.0u\"s\"))\n",
    "sol = solve(prob,Midpoint)"
   ]
  },
  {
   "cell_type": "markdown",
   "metadata": {},
   "source": [
    "This gives a a normal solution object. Notice that the values are all with the correct units:"
   ]
  },
  {
   "cell_type": "code",
   "execution_count": 10,
   "metadata": {
    "collapsed": false
   },
   "outputs": [
    {
     "name": "stdout",
     "output_type": "stream",
     "text": [
      "Unitful.Quantity{Float64,Unitful.Dimensions{(Unitful.Dimension{:Length}(1//1),Unitful.Dimension{:Mass}(1//1),Unitful.Dimension{:Time}(-2//1))},Unitful.Units{(Unitful.Unit{:Newton}(0,1//1),),Unitful.Dimensions{(Unitful.Dimension{:Length}(1//1),Unitful.Dimension{:Mass}(1//1),Unitful.Dimension{:Time}(-2//1))}}}[1.5 N,1.50194 N,1.50388 N,1.50582 N,1.50777 N,1.50972 N,1.51167 N,1.51362 N,1.51558 N,1.51754 N,1.5195 N,1.52146 N,1.52343 N,1.5254 N,1.52737 N,1.52934 N,1.53132 N,1.5333 N,1.53528 N,1.53726 N,1.53925 N,1.54124 N,1.54323 N,1.54522 N,1.54722 N,1.54922 N,1.55122 N,1.55323 N,1.55523 N,1.55724 N,1.55925 N,1.56127 N,1.56329 N,1.56531 N,1.56733 N,1.56936 N,1.57138 N,1.57341 N,1.57545 N,1.57748 N,1.57952 N,1.58156 N,1.58361 N,1.58565 N,1.5877 N,1.58975 N,1.59181 N,1.59387 N,1.59592 N,1.59799 N,1.60005 N,1.60212 N,1.60419 N,1.60626 N,1.60834 N,1.61042 N,1.6125 N,1.61458 N,1.61667 N,1.61876 N,1.62085 N,1.62294 N,1.62504 N,1.62714 N,1.62924 N,1.63135 N,1.63346 N,1.63557 N,1.63768 N,1.6398 N,1.64192 N,1.64404 N,1.64616 N,1.64829 N,1.65042 N,1.65255 N,1.65469 N,1.65683 N,1.65897 N,1.66111 N,1.66326 N,1.66541 N,1.66756 N,1.66972 N,1.67187 N,1.67403 N,1.6762 N,1.67836 N,1.68053 N,1.6827 N,1.68488 N,1.68706 N,1.68924 N,1.69142 N,1.6936 N,1.69579 N,1.69798 N,1.70018 N,1.70238 N,1.70458 N,1.70678 N,1.70898 N,1.71119 N,1.7134 N,1.71562 N,1.71783 N,1.72005 N,1.72228 N,1.7245 N,1.72673 N,1.72896 N,1.7312 N,1.73343 N,1.73567 N,1.73792 N,1.74016 N,1.74241 N,1.74466 N,1.74692 N,1.74918 N,1.75144 N,1.7537 N,1.75597 N,1.75823 N,1.76051 N,1.76278 N,1.76506 N,1.76734 N,1.76962 N,1.77191 N,1.77204 N]"
     ]
    }
   ],
   "source": [
    "print(sol[:])"
   ]
  },
  {
   "cell_type": "markdown",
   "metadata": {},
   "source": [
    "We can plot the solution using the plot recipe."
   ]
  },
  {
   "cell_type": "code",
   "execution_count": 5,
   "metadata": {
    "collapsed": false
   },
   "outputs": [
    {
     "data": {
      "text/html": [
       "<?xml version=\"1.0\" encoding=\"utf-8\"?>\n",
       "<svg xmlns=\"http://www.w3.org/2000/svg\" xmlns:xlink=\"http://www.w3.org/1999/xlink\" width=\"600\" height=\"400\" viewBox=\"0 0 600 400\">\n",
       "<defs>\n",
       "  <clipPath id=\"clip00\">\n",
       "    <rect x=\"0\" y=\"0\" width=\"600\" height=\"400\"/>\n",
       "  </clipPath>\n",
       "</defs>\n",
       "<polygon clip-path=\"url(#clip00)\" points=\"\n",
       "0,400 600,400 600,0 0,0 \n",
       "  \" fill=\"#ffffff\" fill-opacity=\"1\"/>\n",
       "<defs>\n",
       "  <clipPath id=\"clip01\">\n",
       "    <rect x=\"120\" y=\"0\" width=\"421\" height=\"400\"/>\n",
       "  </clipPath>\n",
       "</defs>\n",
       "<polygon clip-path=\"url(#clip00)\" points=\"\n",
       "172.826,384.952 596.063,384.952 596.063,3.93701 172.826,3.93701 \n",
       "  \" fill=\"#ffffff\" fill-opacity=\"1\"/>\n",
       "<defs>\n",
       "  <clipPath id=\"clip02\">\n",
       "    <rect x=\"172\" y=\"3\" width=\"424\" height=\"382\"/>\n",
       "  </clipPath>\n",
       "</defs>\n",
       "<polyline clip-path=\"url(#clip02)\" style=\"stroke:#00002d; stroke-width:0.8; stroke-opacity:0.5; fill:none\" stroke-dasharray=\"1, 2\" points=\"\n",
       "  172.826,379.237 172.826,9.65223 \n",
       "  \"/>\n",
       "<polyline clip-path=\"url(#clip02)\" style=\"stroke:#00002d; stroke-width:0.8; stroke-opacity:0.5; fill:none\" stroke-dasharray=\"1, 2\" points=\"\n",
       "  257.473,379.237 257.473,9.65223 \n",
       "  \"/>\n",
       "<polyline clip-path=\"url(#clip02)\" style=\"stroke:#00002d; stroke-width:0.8; stroke-opacity:0.5; fill:none\" stroke-dasharray=\"1, 2\" points=\"\n",
       "  342.121,379.237 342.121,9.65223 \n",
       "  \"/>\n",
       "<polyline clip-path=\"url(#clip02)\" style=\"stroke:#00002d; stroke-width:0.8; stroke-opacity:0.5; fill:none\" stroke-dasharray=\"1, 2\" points=\"\n",
       "  426.768,379.237 426.768,9.65223 \n",
       "  \"/>\n",
       "<polyline clip-path=\"url(#clip02)\" style=\"stroke:#00002d; stroke-width:0.8; stroke-opacity:0.5; fill:none\" stroke-dasharray=\"1, 2\" points=\"\n",
       "  511.416,379.237 511.416,9.65223 \n",
       "  \"/>\n",
       "<polyline clip-path=\"url(#clip02)\" style=\"stroke:#00002d; stroke-width:0.8; stroke-opacity:0.5; fill:none\" stroke-dasharray=\"1, 2\" points=\"\n",
       "  596.063,379.237 596.063,9.65223 \n",
       "  \"/>\n",
       "<polyline clip-path=\"url(#clip02)\" style=\"stroke:#00002d; stroke-width:0.8; stroke-opacity:0.5; fill:none\" stroke-dasharray=\"1, 2\" points=\"\n",
       "  179.174,384.952 589.714,384.952 \n",
       "  \"/>\n",
       "<polyline clip-path=\"url(#clip02)\" style=\"stroke:#00002d; stroke-width:0.8; stroke-opacity:0.5; fill:none\" stroke-dasharray=\"1, 2\" points=\"\n",
       "  179.174,244.894 589.714,244.894 \n",
       "  \"/>\n",
       "<polyline clip-path=\"url(#clip02)\" style=\"stroke:#00002d; stroke-width:0.8; stroke-opacity:0.5; fill:none\" stroke-dasharray=\"1, 2\" points=\"\n",
       "  179.174,104.836 589.714,104.836 \n",
       "  \"/>\n",
       "<polyline clip-path=\"url(#clip02)\" style=\"stroke:#00002d; stroke-width:0.8; stroke-opacity:1; fill:none\" points=\"\n",
       "  172.826,384.952 596.063,384.952 \n",
       "  \"/>\n",
       "<polyline clip-path=\"url(#clip02)\" style=\"stroke:#00002d; stroke-width:0.8; stroke-opacity:1; fill:none\" points=\"\n",
       "  172.826,384.952 172.826,379.237 \n",
       "  \"/>\n",
       "<polyline clip-path=\"url(#clip02)\" style=\"stroke:#00002d; stroke-width:0.8; stroke-opacity:1; fill:none\" points=\"\n",
       "  257.473,384.952 257.473,379.237 \n",
       "  \"/>\n",
       "<polyline clip-path=\"url(#clip02)\" style=\"stroke:#00002d; stroke-width:0.8; stroke-opacity:1; fill:none\" points=\"\n",
       "  342.121,384.952 342.121,379.237 \n",
       "  \"/>\n",
       "<polyline clip-path=\"url(#clip02)\" style=\"stroke:#00002d; stroke-width:0.8; stroke-opacity:1; fill:none\" points=\"\n",
       "  426.768,384.952 426.768,379.237 \n",
       "  \"/>\n",
       "<polyline clip-path=\"url(#clip02)\" style=\"stroke:#00002d; stroke-width:0.8; stroke-opacity:1; fill:none\" points=\"\n",
       "  511.416,384.952 511.416,379.237 \n",
       "  \"/>\n",
       "<polyline clip-path=\"url(#clip02)\" style=\"stroke:#00002d; stroke-width:0.8; stroke-opacity:1; fill:none\" points=\"\n",
       "  596.063,384.952 596.063,379.237 \n",
       "  \"/>\n",
       "<polyline clip-path=\"url(#clip02)\" style=\"stroke:#00002d; stroke-width:0.8; stroke-opacity:1; fill:none\" points=\"\n",
       "  172.826,384.952 172.826,3.93701 \n",
       "  \"/>\n",
       "<polyline clip-path=\"url(#clip02)\" style=\"stroke:#00002d; stroke-width:0.8; stroke-opacity:1; fill:none\" points=\"\n",
       "  172.826,384.952 179.174,384.952 \n",
       "  \"/>\n",
       "<polyline clip-path=\"url(#clip02)\" style=\"stroke:#00002d; stroke-width:0.8; stroke-opacity:1; fill:none\" points=\"\n",
       "  172.826,244.894 179.174,244.894 \n",
       "  \"/>\n",
       "<polyline clip-path=\"url(#clip02)\" style=\"stroke:#00002d; stroke-width:0.8; stroke-opacity:1; fill:none\" points=\"\n",
       "  172.826,104.836 179.174,104.836 \n",
       "  \"/>\n",
       "<g clip-path=\"url(#clip00)\">\n",
       "<text style=\"fill:#00002d; fill-opacity:1; font-family:Arial,Helvetica Neue,Helvetica,sans-serif; font-size:12; text-anchor:middle;\" transform=\"rotate(0, 172.826, 396.952)\" x=\"172.826\" y=\"396.952\">0.0s</text>\n",
       "</g>\n",
       "<g clip-path=\"url(#clip00)\">\n",
       "<text style=\"fill:#00002d; fill-opacity:1; font-family:Arial,Helvetica Neue,Helvetica,sans-serif; font-size:12; text-anchor:middle;\" transform=\"rotate(0, 257.473, 396.952)\" x=\"257.473\" y=\"396.952\">0.2s</text>\n",
       "</g>\n",
       "<g clip-path=\"url(#clip00)\">\n",
       "<text style=\"fill:#00002d; fill-opacity:1; font-family:Arial,Helvetica Neue,Helvetica,sans-serif; font-size:12; text-anchor:middle;\" transform=\"rotate(0, 342.121, 396.952)\" x=\"342.121\" y=\"396.952\">0.4s</text>\n",
       "</g>\n",
       "<g clip-path=\"url(#clip00)\">\n",
       "<text style=\"fill:#00002d; fill-opacity:1; font-family:Arial,Helvetica Neue,Helvetica,sans-serif; font-size:12; text-anchor:middle;\" transform=\"rotate(0, 426.768, 396.952)\" x=\"426.768\" y=\"396.952\">0.6000000000000001s</text>\n",
       "</g>\n",
       "<g clip-path=\"url(#clip00)\">\n",
       "<text style=\"fill:#00002d; fill-opacity:1; font-family:Arial,Helvetica Neue,Helvetica,sans-serif; font-size:12; text-anchor:middle;\" transform=\"rotate(0, 511.416, 396.952)\" x=\"511.416\" y=\"396.952\">0.8s</text>\n",
       "</g>\n",
       "<g clip-path=\"url(#clip00)\">\n",
       "<text style=\"fill:#00002d; fill-opacity:1; font-family:Arial,Helvetica Neue,Helvetica,sans-serif; font-size:12; text-anchor:middle;\" transform=\"rotate(0, 596.063, 396.952)\" x=\"596.063\" y=\"396.952\">1.0s</text>\n",
       "</g>\n",
       "<g clip-path=\"url(#clip00)\">\n",
       "<text style=\"fill:#00002d; fill-opacity:1; font-family:Arial,Helvetica Neue,Helvetica,sans-serif; font-size:12; text-anchor:end;\" transform=\"rotate(0, 171.626, 389.452)\" x=\"171.626\" y=\"389.452\">1.5N</text>\n",
       "</g>\n",
       "<g clip-path=\"url(#clip00)\">\n",
       "<text style=\"fill:#00002d; fill-opacity:1; font-family:Arial,Helvetica Neue,Helvetica,sans-serif; font-size:12; text-anchor:end;\" transform=\"rotate(0, 171.626, 249.394)\" x=\"171.626\" y=\"249.394\">1.6N</text>\n",
       "</g>\n",
       "<g clip-path=\"url(#clip00)\">\n",
       "<text style=\"fill:#00002d; fill-opacity:1; font-family:Arial,Helvetica Neue,Helvetica,sans-serif; font-size:12; text-anchor:end;\" transform=\"rotate(0, 171.626, 109.336)\" x=\"171.626\" y=\"109.336\">1.7000000000000002N</text>\n",
       "</g>\n",
       "<polyline clip-path=\"url(#clip02)\" style=\"stroke:#0099ff; stroke-width:2.4; stroke-opacity:1; fill:none\" points=\"\n",
       "  172.826,384.952 176.105,382.237 179.385,379.519 182.664,376.797 185.944,374.071 189.223,371.342 192.503,368.61 195.782,365.874 199.062,363.134 202.341,360.391 \n",
       "  205.621,357.645 208.9,354.895 212.18,352.141 215.459,349.384 218.739,346.623 222.018,343.858 225.297,341.09 228.577,338.319 231.856,335.544 235.136,332.765 \n",
       "  238.415,329.983 241.695,327.197 244.974,324.407 248.254,321.614 251.533,318.817 254.813,316.017 258.092,313.213 261.372,310.406 264.651,307.594 267.931,304.78 \n",
       "  271.21,301.961 274.49,299.139 277.769,296.313 281.049,293.484 284.328,290.651 287.607,287.814 290.887,284.974 294.166,282.13 297.446,279.282 300.725,276.43 \n",
       "  304.005,273.575 307.284,270.717 310.564,267.854 313.843,264.988 317.123,262.118 320.402,259.244 323.682,256.367 326.961,253.486 330.241,250.601 333.52,247.713 \n",
       "  336.8,244.821 340.079,241.925 343.358,239.025 346.638,236.121 349.917,233.214 353.197,230.303 356.476,227.389 359.756,224.47 363.035,221.548 366.315,218.622 \n",
       "  369.594,215.692 372.874,212.758 376.153,209.821 379.433,206.88 382.712,203.935 385.992,200.986 389.271,198.033 392.551,195.077 395.83,192.117 399.11,189.153 \n",
       "  402.389,186.185 405.668,183.213 408.948,180.238 412.227,177.258 415.507,174.275 418.786,171.288 422.066,168.297 425.345,165.302 428.625,162.303 431.904,159.301 \n",
       "  435.184,156.294 438.463,153.284 441.743,150.27 445.022,147.251 448.302,144.229 451.581,141.203 454.861,138.174 458.14,135.14 461.42,132.102 464.699,129.061 \n",
       "  467.978,126.015 471.258,122.965 474.537,119.912 477.817,116.855 481.096,113.793 484.376,110.728 487.655,107.659 490.935,104.586 494.214,101.508 497.494,98.4273 \n",
       "  500.773,95.3422 504.053,92.2531 507.332,89.16 510.612,86.0629 513.891,82.9617 517.171,79.8566 520.45,76.7475 523.73,73.6343 527.009,70.5172 530.288,67.396 \n",
       "  533.568,64.2707 536.847,61.1415 540.127,58.0082 543.406,54.8708 546.686,51.7294 549.965,48.5839 553.245,45.4343 556.524,42.2807 559.804,39.123 563.083,35.9613 \n",
       "  566.363,32.7954 569.642,29.6255 572.922,26.4514 576.201,23.2733 579.481,20.091 582.76,16.9047 586.04,13.7142 589.319,10.5196 592.598,7.32086 595.878,4.11799 \n",
       "  596.063,3.93701 \n",
       "  \"/>\n",
       "<polygon clip-path=\"url(#clip00)\" points=\"\n",
       "505.547,55.057 578.063,55.057 578.063,24.817 505.547,24.817 \n",
       "  \" fill=\"#ffffff\" fill-opacity=\"1\"/>\n",
       "<polyline clip-path=\"url(#clip00)\" style=\"stroke:#00002d; stroke-width:0.8; stroke-opacity:1; fill:none\" points=\"\n",
       "  505.547,55.057 578.063,55.057 578.063,24.817 505.547,24.817 505.547,55.057 \n",
       "  \"/>\n",
       "<polyline clip-path=\"url(#clip00)\" style=\"stroke:#0099ff; stroke-width:2.4; stroke-opacity:1; fill:none\" points=\"\n",
       "  511.547,39.937 547.547,39.937 \n",
       "  \"/>\n",
       "<g clip-path=\"url(#clip00)\">\n",
       "<text style=\"fill:#00002d; fill-opacity:1; font-family:Arial,Helvetica Neue,Helvetica,sans-serif; font-size:12; text-anchor:start;\" transform=\"rotate(0, 553.547, 44.437)\" x=\"553.547\" y=\"44.437\">y1</text>\n",
       "</g>\n",
       "</svg>\n"
      ]
     },
     "execution_count": 5,
     "metadata": {},
     "output_type": "execute_result"
    }
   ],
   "source": [
    "using UnitfulPlots, Plots\n",
    "gr()\n",
    "plot(sol.t,sol[:],lw=3)"
   ]
  },
  {
   "cell_type": "markdown",
   "metadata": {},
   "source": [
    "Notice that here we pulled the units for the label directly from the solution. Thus if the units change, the labels will change automatically."
   ]
  },
  {
   "cell_type": "markdown",
   "metadata": {},
   "source": [
    "## Other Solvers and Future Developments\n",
    "\n",
    "As of right now, the ODE solvers are the only solvers which are fully compatible with units. The SDE solvers will come shortly. For the FEM PDE solvers, the tooling is all compatible with units (i.e. you can make meshes with units, and most of the functions will work). However, the solver step is what's not compatible with units. The reason is because `\\` uses CHOLMOD which does not work with units, and sparse multiplication also is undefined for units. These facts are major stop gaps in development here. I believe it's not worth it to simply \"turn off\" units at that point because that is there area where one would wish to have units checked."
   ]
  }
 ],
 "metadata": {
  "kernelspec": {
   "display_name": "Julia 0.5.0-rc3",
   "language": "julia",
   "name": "julia-0.5"
  },
  "language_info": {
   "file_extension": ".jl",
   "mimetype": "application/julia",
   "name": "julia",
   "version": "0.5.0"
  }
 },
 "nbformat": 4,
 "nbformat_minor": 1
}
